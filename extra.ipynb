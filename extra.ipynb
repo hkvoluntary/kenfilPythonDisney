{
  "nbformat": 4,
  "nbformat_minor": 0,
  "metadata": {
    "colab": {
      "provenance": []
    },
    "kernelspec": {
      "name": "python3",
      "display_name": "Python 3"
    },
    "language_info": {
      "name": "python"
    }
  },
  "cells": [
    {
      "cell_type": "code",
      "execution_count": null,
      "metadata": {
        "colab": {
          "base_uri": "https://localhost:8080/"
        },
        "id": "2OD07Rr_o5Kc",
        "outputId": "b3cd838d-db80-4f97-cb54-299723d2a13b"
      },
      "outputs": [
        {
          "output_type": "stream",
          "name": "stdout",
          "text": [
            "193428.45904\n",
            "193428.46\n"
          ]
        }
      ],
      "source": [
        "number = 193428.45904\n",
        "print(number)\n",
        "print(round(number, 2))"
      ]
    },
    {
      "cell_type": "code",
      "source": [
        "million = 1000000\n",
        "print(f\"{million:,}\")\n"
      ],
      "metadata": {
        "colab": {
          "base_uri": "https://localhost:8080/"
        },
        "id": "dEyn7x3z9TpP",
        "outputId": "d505d01f-b89e-48cc-ec92-9ad16f349ac8"
      },
      "execution_count": null,
      "outputs": [
        {
          "output_type": "stream",
          "name": "stdout",
          "text": [
            "1,000,000\n"
          ]
        }
      ]
    },
    {
      "cell_type": "code",
      "source": [
        "import humanize\n",
        "\n",
        "\n",
        "# Example usage:\n",
        "number = 1500000\n",
        "print(humanize.intword(number))  # Output: 1.5 million\n",
        "print(f\"{number:,}\")\n",
        "print(humanize.intcomma(number, ndigits=2))\n",
        "\n",
        "number = 23928948012\n",
        "print(humanize.intword(number))  # Output: 1.5 billion\n",
        "print(f\"{number:,}\")\n",
        "print(humanize.intcomma(number, ndigits=2))\n",
        "\n",
        "# File size\n",
        "print(humanize.naturalsize(1_000_000)) # 1.0 MB\n",
        "print(humanize.naturalsize(1_000_000_000)) # 1.0 GB\n",
        "print(humanize.naturalsize(1_000_000_000_000)) # 1.0 TB\n",
        "\n"
      ],
      "metadata": {
        "colab": {
          "base_uri": "https://localhost:8080/"
        },
        "id": "2NnrCKwd97CU",
        "outputId": "defe3197-8d9b-44a6-fb4c-877dc292d9b6"
      },
      "execution_count": null,
      "outputs": [
        {
          "output_type": "stream",
          "name": "stdout",
          "text": [
            "1.5 million\n",
            "1,500,000\n",
            "1,500,000.00\n",
            "23.9 billion\n",
            "23,928,948,012\n",
            "23,928,948,012.00\n",
            "1.0 MB\n",
            "1.0 GB\n",
            "1.0 TB\n"
          ]
        }
      ]
    },
    {
      "cell_type": "code",
      "source": [
        "# BMI Calculator\n",
        "import sys\n",
        "\n",
        "# Function to calculate BMI\n",
        "def calculate_bmi(weight, height):\n",
        "    bmi = 0 # initial variable\n",
        "    bmi = weight / (height ** 2)\n",
        "    return bmi\n",
        "\n",
        "# User input for weight and height\n",
        "weight = float(input(\"Enter your weight in kilograms: \"))\n",
        "if (weight < 0):\n",
        "  sys.exit()\n",
        "height = float(input(\"Enter your height in meters: \"))\n",
        "\n",
        "\n",
        "# Calculate BMI\n",
        "bmi = calculate_bmi(weight, height)\n",
        "\n",
        "# Display the result\n",
        "print(f\"Your BMI is: {bmi:.2f}\")\n",
        "\n",
        "# Interpretation of BMI. Create a if elif else block statement\n",
        "if (bmi < 18.5):\n",
        "  print(\"You are underweight\")\n",
        "elif (18.5 <= bmi < 24.9): # bmi >= 18.5 and bmi < 24.9\n",
        "  print(\"you are normal\")\n",
        "elif (25 <= bmi < 29.9):\n",
        "  print(\"Overweight\")\n",
        "else:\n",
        "  print(\"Obese\")"
      ],
      "metadata": {
        "id": "tJdJq70N_b09"
      },
      "execution_count": null,
      "outputs": []
    },
    {
      "cell_type": "code",
      "source": [
        "# Take input for DNA string and store in a variable DNA_string\n",
        "DNA_string = 'GCTAGCCTACG' # Replace this line with the right code\n",
        "\n",
        "# Initialize the RNA output as an empty string\n",
        "RNA_string = ''\n",
        "\n",
        "# Use \"for\" loop to traverse the DNA string. Use \"If..elif..else\" sub block to check and concactenate the appropriate letter\n",
        "# to RNA_string.\n",
        "# Use \"else\" block in the \"If..elif..else\" sub block to output an error message and break if a diffrent letter is encountered\n",
        "\n",
        "for i in DNA_string.upper():\n",
        "    # the upper() method is used to make our program case insensitive\n",
        "    print(i)\n",
        "    print(\"RNA_String:\", RNA_string)\n",
        "    if i == 'G':\n",
        "        RNA_string = RNA_string + 'C'\n",
        "    # Continue the \"elif\" blocks of the \"If..elif..else\" block for the other letters\n",
        "    elif i == 'C':\n",
        "      RNA_string = RNA_string + 'G'\n",
        "    elif i == 'T':\n",
        "      RNA_string = RNA_string + 'A'\n",
        "    elif i == 'A':\n",
        "      RNA_string = RNA_string + 'U'\n",
        "\n",
        "\n",
        "\n",
        "    # Complete the \"If..elif..else\" block with \"else\" block for an error message assigned to RNA_string\n",
        "    # break out of the loop\n",
        "\n",
        "\n",
        "else:\n",
        "    # This else is attached to the for loop\n",
        "    print('Done with Translation')\n",
        "\n",
        "print('DNA output: ', RNA_string)"
      ],
      "metadata": {
        "id": "c-R1NTh8MOOU"
      },
      "execution_count": null,
      "outputs": []
    },
    {
      "cell_type": "code",
      "source": [
        "fruit = [\"banana\", \"cherry\", \"grape\"]\n",
        "fruit.insert(1,\"apple\")\n",
        "print(fruit)"
      ],
      "metadata": {
        "id": "fUMcl9DNi3Qv"
      },
      "execution_count": null,
      "outputs": []
    },
    {
      "cell_type": "markdown",
      "source": [
        "Remove item from the dictionary"
      ],
      "metadata": {
        "id": "1SNX649OTNvF"
      }
    },
    {
      "cell_type": "code",
      "source": [
        "dict1 = {\"name\":\"Daniel\", \"age\": 23, \"degree\":\"MS\"}\n",
        "print(dict1)\n",
        "dict1.pop(\"name\")\n",
        "print(dict1)"
      ],
      "metadata": {
        "id": "1eHEfA5RcV50",
        "colab": {
          "base_uri": "https://localhost:8080/"
        },
        "outputId": "556d3e8c-efd6-4433-d082-2378d1c37ded"
      },
      "execution_count": null,
      "outputs": [
        {
          "output_type": "stream",
          "name": "stdout",
          "text": [
            "{'name': 'Daniel', 'age': 23, 'degree': 'MS'}\n",
            "{'age': 23, 'degree': 'MS'}\n"
          ]
        }
      ]
    },
    {
      "cell_type": "code",
      "source": [
        "dict1.popitem()\n",
        "print(dict1)"
      ],
      "metadata": {
        "id": "e_0G7VRPc2xB",
        "colab": {
          "base_uri": "https://localhost:8080/"
        },
        "outputId": "bc000d41-3d26-4093-b71e-361166c06e37"
      },
      "execution_count": null,
      "outputs": [
        {
          "output_type": "stream",
          "name": "stdout",
          "text": [
            "{'age': 23}\n"
          ]
        }
      ]
    },
    {
      "cell_type": "code",
      "source": [
        "dict1.clear()\n",
        "print(dict1)"
      ],
      "metadata": {
        "id": "pbQHT7lxdATa",
        "colab": {
          "base_uri": "https://localhost:8080/"
        },
        "outputId": "e00618cc-9e18-4d33-e1be-299d3ab8b371"
      },
      "execution_count": null,
      "outputs": [
        {
          "output_type": "stream",
          "name": "stdout",
          "text": [
            "{}\n"
          ]
        }
      ]
    },
    {
      "cell_type": "code",
      "source": [
        "if (len(dict1) > 0):\n",
        "  dict1.popitem()"
      ],
      "metadata": {
        "id": "hGqhCdPaBiWf"
      },
      "execution_count": null,
      "outputs": []
    },
    {
      "cell_type": "markdown",
      "source": [
        "Only store the unique items will be saved."
      ],
      "metadata": {
        "id": "_aWh6sTuTjxk"
      }
    },
    {
      "cell_type": "code",
      "source": [
        "tech = {'google','amazon','apple','tesla','microsoft','apple', 'google'}\n",
        "print(tech)"
      ],
      "metadata": {
        "id": "f6vVWP0ZTjRF",
        "colab": {
          "base_uri": "https://localhost:8080/"
        },
        "outputId": "7e86c073-e457-4f63-b644-833d09c46124"
      },
      "execution_count": null,
      "outputs": [
        {
          "output_type": "stream",
          "name": "stdout",
          "text": [
            "{'apple', 'tesla', 'google', 'amazon', 'microsoft'}\n"
          ]
        }
      ]
    },
    {
      "cell_type": "markdown",
      "source": [
        "Remove the duplicate from the list"
      ],
      "metadata": {
        "id": "EZ1F0S1oT7Mc"
      }
    },
    {
      "cell_type": "code",
      "source": [
        "list1 = ['google','amazon','apple','tesla','microsoft','apple', 'google']\n",
        "tech_set = set(list1)\n",
        "print(tech_set)\n",
        "list2 = list(tech_set)\n",
        "print(list2)"
      ],
      "metadata": {
        "id": "lk6LO_AYTMMD"
      },
      "execution_count": null,
      "outputs": []
    },
    {
      "cell_type": "code",
      "source": [
        "\n",
        "text = 'The quick brown fox jumps over a lazy dog'\n",
        "\n",
        "#Length of the 'text' variable\n",
        "print(len(text))\n",
        "\n",
        "#Splitting the string\n",
        "new = text.split(' ')\n",
        "print(new)\n",
        "print(type(new))\n",
        "\n",
        "#Length of the 'new' variable\n",
        "print(len(new))\n",
        "#Middle element of the 'new' variable\n",
        "\n",
        "if (len(new) % 2 != 0): # for odd number\n",
        "  middle_index = len(new) // 2\n",
        "else: # for even number\n",
        "  middle_index = int(len(new) / 2)\n",
        "\n",
        "print(middle_index)\n",
        "#Insert a string to the 'new' variable\n",
        "new.insert(middle_index, \"new_word\")\n",
        "print(new)\n",
        "string_out = '-'.join(new)\n",
        "print(string_out)\n",
        "\n",
        "\n"
      ],
      "metadata": {
        "id": "-HnG0MJYYyse",
        "colab": {
          "base_uri": "https://localhost:8080/"
        },
        "outputId": "177d9192-6b13-439d-e37c-ee2fe04f33c5"
      },
      "execution_count": null,
      "outputs": [
        {
          "output_type": "stream",
          "name": "stdout",
          "text": [
            "41\n",
            "['The', 'quick', 'brown', 'fox', 'jumps', 'over', 'a', 'lazy', 'dog']\n",
            "<class 'list'>\n",
            "9\n",
            "4\n",
            "['The', 'quick', 'brown', 'fox', 'new_word', 'jumps', 'over', 'a', 'lazy', 'dog']\n",
            "The-quick-brown-fox-new_word-jumps-over-a-lazy-dog\n"
          ]
        }
      ]
    },
    {
      "cell_type": "code",
      "source": [
        "text = 'The quick brown fox jumps over a lazy dog'\n",
        "\n",
        "#Splitting the string\n",
        "new = text.split(' ')\n",
        "\n",
        "if (len(new) % 2 != 0): # for odd number\n",
        "  middle_index = len(new) // 2\n",
        "else: # for even number\n",
        "  middle_index = int(len(new) / 2)\n",
        "\n",
        "print(middle_index)\n",
        "new_list = new[0:middle_index]\n",
        "new_list.append(\"another_word\")\n",
        "print(new_list)\n",
        "\n",
        "\n",
        "## it is not expected result\n",
        "new_list.append(new[middle_index:])\n",
        "print(new_list)\n",
        "## it is not expected result\n",
        "\n",
        "\n"
      ],
      "metadata": {
        "id": "bKnOOa3KYzz-",
        "colab": {
          "base_uri": "https://localhost:8080/"
        },
        "outputId": "b5816d3f-af85-41ea-a2b8-cd28975751d9"
      },
      "execution_count": null,
      "outputs": [
        {
          "output_type": "stream",
          "name": "stdout",
          "text": [
            "4\n",
            "['The', 'quick', 'brown', 'fox', 'another_word']\n",
            "['The', 'quick', 'brown', 'fox', 'another_word', ['jumps', 'over', 'a', 'lazy', 'dog']]\n"
          ]
        }
      ]
    },
    {
      "cell_type": "markdown",
      "source": [
        "Reindex the row after the deletion"
      ],
      "metadata": {
        "id": "X4dw0J9XzkeL"
      }
    },
    {
      "cell_type": "code",
      "source": [
        "import pandas as pd\n",
        "import numpy as np\n",
        "\n",
        "# From a dictionary\n",
        "data = {\n",
        "    'name': ['Alice', 'Bob', 'Charlie'],\n",
        "    'age': [25, 30, 35],\n",
        "    'city': ['New York', 'Los Angeles', 'Chicago']\n",
        "}\n",
        "df = pd.DataFrame(data)\n",
        "print(df)\n"
      ],
      "metadata": {
        "colab": {
          "base_uri": "https://localhost:8080/"
        },
        "id": "tz8Hk-iLzDXa",
        "outputId": "6d7796cb-89b9-40d5-cae4-b61acaefe467"
      },
      "execution_count": null,
      "outputs": [
        {
          "output_type": "stream",
          "name": "stdout",
          "text": [
            "      name  age         city\n",
            "0    Alice   25     New York\n",
            "1      Bob   30  Los Angeles\n",
            "2  Charlie   35      Chicago\n"
          ]
        }
      ]
    },
    {
      "cell_type": "code",
      "source": [
        "# Dropping a row\n",
        "df = df.drop(index=0).reset_index(drop=True)\n",
        "print(df)"
      ],
      "metadata": {
        "colab": {
          "base_uri": "https://localhost:8080/"
        },
        "id": "VPMnLm8zzVwi",
        "outputId": "c0edd0c8-28d1-4e7d-d470-8ded189fff6d"
      },
      "execution_count": null,
      "outputs": [
        {
          "output_type": "stream",
          "name": "stdout",
          "text": [
            "      name  age         city\n",
            "0      Bob   30  Los Angeles\n",
            "1  Charlie   35      Chicago\n"
          ]
        }
      ]
    },
    {
      "cell_type": "code",
      "source": [
        "# From a list of dictionaries\n",
        "data2 = [\n",
        "    {'name': 'Alice', 'age': 25, 'city': 'New York'},\n",
        "    {'name': 'Bob', 'age': 30, 'city': 'Los Angeles'},\n",
        "    {'name': 'David', 'age': '35', 'city': 'LA', 'state':'CA'},\n",
        "    {'name': 'Charlie', 'age': 35, 'city': 'Chicago'}\n",
        "]\n",
        "df1 = pd.DataFrame(data2)\n",
        "print(df1)"
      ],
      "metadata": {
        "colab": {
          "base_uri": "https://localhost:8080/"
        },
        "id": "HCoVPxJ20OCv",
        "outputId": "b2edb1b5-4a21-46df-d77e-e60b77cc757b"
      },
      "execution_count": null,
      "outputs": [
        {
          "output_type": "stream",
          "name": "stdout",
          "text": [
            "      name age         city state\n",
            "0    Alice  25     New York   NaN\n",
            "1      Bob  30  Los Angeles   NaN\n",
            "2    David  35           LA    CA\n",
            "3  Charlie  35      Chicago   NaN\n"
          ]
        }
      ]
    },
    {
      "cell_type": "code",
      "source": [
        "\n",
        "df1.dtypes"
      ],
      "metadata": {
        "colab": {
          "base_uri": "https://localhost:8080/",
          "height": 209
        },
        "id": "QNWY8TNC0UtF",
        "outputId": "110f4fac-19c5-41b9-f7a7-330264fef328"
      },
      "execution_count": null,
      "outputs": [
        {
          "output_type": "execute_result",
          "data": {
            "text/plain": [
              "name     object\n",
              "age      object\n",
              "city     object\n",
              "state    object\n",
              "dtype: object"
            ],
            "text/html": [
              "<div>\n",
              "<style scoped>\n",
              "    .dataframe tbody tr th:only-of-type {\n",
              "        vertical-align: middle;\n",
              "    }\n",
              "\n",
              "    .dataframe tbody tr th {\n",
              "        vertical-align: top;\n",
              "    }\n",
              "\n",
              "    .dataframe thead th {\n",
              "        text-align: right;\n",
              "    }\n",
              "</style>\n",
              "<table border=\"1\" class=\"dataframe\">\n",
              "  <thead>\n",
              "    <tr style=\"text-align: right;\">\n",
              "      <th></th>\n",
              "      <th>0</th>\n",
              "    </tr>\n",
              "  </thead>\n",
              "  <tbody>\n",
              "    <tr>\n",
              "      <th>name</th>\n",
              "      <td>object</td>\n",
              "    </tr>\n",
              "    <tr>\n",
              "      <th>age</th>\n",
              "      <td>object</td>\n",
              "    </tr>\n",
              "    <tr>\n",
              "      <th>city</th>\n",
              "      <td>object</td>\n",
              "    </tr>\n",
              "    <tr>\n",
              "      <th>state</th>\n",
              "      <td>object</td>\n",
              "    </tr>\n",
              "  </tbody>\n",
              "</table>\n",
              "</div><br><label><b>dtype:</b> object</label>"
            ]
          },
          "metadata": {},
          "execution_count": 57
        }
      ]
    },
    {
      "cell_type": "code",
      "source": [
        "# numpy.isreal(array) : Test element-wise whether it is a real number or not(not infinity or not Not a Number)\n",
        "# panda.map: The map() function executes a specified function for each item in an iterable. The item is sent to the function as a parameter.\n",
        "df1['age'].map(np.isreal)\n"
      ],
      "metadata": {
        "colab": {
          "base_uri": "https://localhost:8080/",
          "height": 209
        },
        "id": "2uTq75Rz00dV",
        "outputId": "965a94df-f1a5-488e-c5ee-3b2155e977b6"
      },
      "execution_count": null,
      "outputs": [
        {
          "output_type": "execute_result",
          "data": {
            "text/plain": [
              "0     True\n",
              "1     True\n",
              "2    False\n",
              "3     True\n",
              "Name: age, dtype: bool"
            ],
            "text/html": [
              "<div>\n",
              "<style scoped>\n",
              "    .dataframe tbody tr th:only-of-type {\n",
              "        vertical-align: middle;\n",
              "    }\n",
              "\n",
              "    .dataframe tbody tr th {\n",
              "        vertical-align: top;\n",
              "    }\n",
              "\n",
              "    .dataframe thead th {\n",
              "        text-align: right;\n",
              "    }\n",
              "</style>\n",
              "<table border=\"1\" class=\"dataframe\">\n",
              "  <thead>\n",
              "    <tr style=\"text-align: right;\">\n",
              "      <th></th>\n",
              "      <th>age</th>\n",
              "    </tr>\n",
              "  </thead>\n",
              "  <tbody>\n",
              "    <tr>\n",
              "      <th>0</th>\n",
              "      <td>True</td>\n",
              "    </tr>\n",
              "    <tr>\n",
              "      <th>1</th>\n",
              "      <td>True</td>\n",
              "    </tr>\n",
              "    <tr>\n",
              "      <th>2</th>\n",
              "      <td>False</td>\n",
              "    </tr>\n",
              "    <tr>\n",
              "      <th>3</th>\n",
              "      <td>True</td>\n",
              "    </tr>\n",
              "  </tbody>\n",
              "</table>\n",
              "</div><br><label><b>dtype:</b> bool</label>"
            ]
          },
          "metadata": {},
          "execution_count": 58
        }
      ]
    },
    {
      "cell_type": "code",
      "source": [
        "arr_3d = np.array([[[1, 2],\n",
        "                    [4, 3],\n",
        "                    [7, 4]],\n",
        "                   [[2, 6],\n",
        "                    [9, 7],\n",
        "                    [7, 5]],\n",
        "                   [[1, 3],\n",
        "                    [3, 5],\n",
        "                    [0, 2]],\n",
        "                   [[9, 7],\n",
        "                    [6, 4],\n",
        "                    [9, 8]]])\n",
        "print(arr_3d)\n",
        "arr_3d[0:2, 1:3, 1]"
      ],
      "metadata": {
        "colab": {
          "base_uri": "https://localhost:8080/"
        },
        "id": "Z4ZIgf237qg7",
        "outputId": "2f4a53d6-6eba-4754-f7ab-04c9b86bc6d2"
      },
      "execution_count": null,
      "outputs": [
        {
          "output_type": "stream",
          "name": "stdout",
          "text": [
            "[[[1 2]\n",
            "  [4 3]\n",
            "  [7 4]]\n",
            "\n",
            " [[2 6]\n",
            "  [9 7]\n",
            "  [7 5]]\n",
            "\n",
            " [[1 3]\n",
            "  [3 5]\n",
            "  [0 2]]\n",
            "\n",
            " [[9 7]\n",
            "  [6 4]\n",
            "  [9 8]]]\n",
            "[[[1 2]\n",
            "  [4 3]\n",
            "  [7 4]]\n",
            "\n",
            " [[2 6]\n",
            "  [9 7]\n",
            "  [7 5]]\n",
            "\n",
            " [[1 3]\n",
            "  [3 5]\n",
            "  [0 2]]\n",
            "\n",
            " [[9 7]\n",
            "  [6 4]\n",
            "  [9 8]]]\n"
          ]
        },
        {
          "output_type": "execute_result",
          "data": {
            "text/plain": [
              "array([[3, 4],\n",
              "       [7, 5]])"
            ]
          },
          "metadata": {},
          "execution_count": 38
        }
      ]
    },
    {
      "cell_type": "code",
      "source": [
        "arr_3d[0:2]"
      ],
      "metadata": {
        "colab": {
          "base_uri": "https://localhost:8080/"
        },
        "id": "wy3QuceV70NW",
        "outputId": "49d6f888-1544-4080-f8e9-e9f8f5b4cbba"
      },
      "execution_count": null,
      "outputs": [
        {
          "output_type": "execute_result",
          "data": {
            "text/plain": [
              "array([[[1, 2],\n",
              "        [4, 3],\n",
              "        [7, 4]],\n",
              "\n",
              "       [[2, 6],\n",
              "        [9, 7],\n",
              "        [7, 5]]])"
            ]
          },
          "metadata": {},
          "execution_count": 39
        }
      ]
    },
    {
      "cell_type": "code",
      "source": [
        "arr_3d[0:2, 1:3]"
      ],
      "metadata": {
        "colab": {
          "base_uri": "https://localhost:8080/"
        },
        "id": "dUPayDQx74C3",
        "outputId": "772b8a73-3d2c-4e15-c2d8-5de79667b53e"
      },
      "execution_count": null,
      "outputs": [
        {
          "output_type": "execute_result",
          "data": {
            "text/plain": [
              "array([[[4, 3],\n",
              "        [7, 4]],\n",
              "\n",
              "       [[9, 7],\n",
              "        [7, 5]]])"
            ]
          },
          "metadata": {},
          "execution_count": 40
        }
      ]
    },
    {
      "cell_type": "code",
      "source": [
        "arr_3d[0:2, 1:3, 1]"
      ],
      "metadata": {
        "colab": {
          "base_uri": "https://localhost:8080/"
        },
        "id": "saPn5iPA765g",
        "outputId": "d9c7e125-58d2-4fa5-da4f-9fa4a75aa504"
      },
      "execution_count": null,
      "outputs": [
        {
          "output_type": "execute_result",
          "data": {
            "text/plain": [
              "array([[3, 4],\n",
              "       [7, 5]])"
            ]
          },
          "metadata": {},
          "execution_count": 41
        }
      ]
    },
    {
      "cell_type": "code",
      "source": [
        "%pip install pandasql"
      ],
      "metadata": {
        "colab": {
          "base_uri": "https://localhost:8080/"
        },
        "id": "0k9Y3-nz9mpp",
        "outputId": "27396018-b3c8-4c5a-eb51-8be1dc2393fb"
      },
      "execution_count": null,
      "outputs": [
        {
          "output_type": "stream",
          "name": "stdout",
          "text": [
            "Collecting pandasql\n",
            "  Downloading pandasql-0.7.3.tar.gz (26 kB)\n",
            "  Preparing metadata (setup.py) ... \u001b[?25l\u001b[?25hdone\n",
            "Requirement already satisfied: numpy in /usr/local/lib/python3.10/dist-packages (from pandasql) (1.26.4)\n",
            "Requirement already satisfied: pandas in /usr/local/lib/python3.10/dist-packages (from pandasql) (2.1.4)\n",
            "Requirement already satisfied: sqlalchemy in /usr/local/lib/python3.10/dist-packages (from pandasql) (2.0.34)\n",
            "Requirement already satisfied: python-dateutil>=2.8.2 in /usr/local/lib/python3.10/dist-packages (from pandas->pandasql) (2.8.2)\n",
            "Requirement already satisfied: pytz>=2020.1 in /usr/local/lib/python3.10/dist-packages (from pandas->pandasql) (2024.1)\n",
            "Requirement already satisfied: tzdata>=2022.1 in /usr/local/lib/python3.10/dist-packages (from pandas->pandasql) (2024.1)\n",
            "Requirement already satisfied: typing-extensions>=4.6.0 in /usr/local/lib/python3.10/dist-packages (from sqlalchemy->pandasql) (4.12.2)\n",
            "Requirement already satisfied: greenlet!=0.4.17 in /usr/local/lib/python3.10/dist-packages (from sqlalchemy->pandasql) (3.1.0)\n",
            "Requirement already satisfied: six>=1.5 in /usr/local/lib/python3.10/dist-packages (from python-dateutil>=2.8.2->pandas->pandasql) (1.16.0)\n",
            "Building wheels for collected packages: pandasql\n",
            "  Building wheel for pandasql (setup.py) ... \u001b[?25l\u001b[?25hdone\n",
            "  Created wheel for pandasql: filename=pandasql-0.7.3-py3-none-any.whl size=26772 sha256=f9c9b7267be8294276003fcd03b7451b0142c583781d8e446abb9d1142bcaa82\n",
            "  Stored in directory: /root/.cache/pip/wheels/e9/bc/3a/8434bdcccf5779e72894a9b24fecbdcaf97940607eaf4bcdf9\n",
            "Successfully built pandasql\n",
            "Installing collected packages: pandasql\n",
            "Successfully installed pandasql-0.7.3\n"
          ]
        }
      ]
    },
    {
      "cell_type": "code",
      "source": [
        "  import pandas as pd\n",
        "import pandasql as ps\n",
        "\n",
        "df = pd.DataFrame([[1234, 'Customer A', '123 Street', np.nan],\n",
        "               [1234, 'Customer A', np.nan, '333 Street'],\n",
        "               [1233, 'Customer B', '444 Street', '333 Street'],\n",
        "              [1233, 'Customer B', '444 Street', '666 Street']], columns=\n",
        "['ID', 'Customer', 'Billing Address', 'Shipping Address'])\n",
        "\n",
        "q1 = \"\"\"SELECT ID FROM df \"\"\"\n",
        "ps.sqldf(q1)"
      ],
      "metadata": {
        "colab": {
          "base_uri": "https://localhost:8080/",
          "height": 174
        },
        "id": "AYU-amJ69GgE",
        "outputId": "1293686a-7a58-426f-fced-595e50ac8c73"
      },
      "execution_count": null,
      "outputs": [
        {
          "output_type": "execute_result",
          "data": {
            "text/plain": [
              "     ID\n",
              "0  1234\n",
              "1  1234\n",
              "2  1233\n",
              "3  1233"
            ],
            "text/html": [
              "\n",
              "  <div id=\"df-e5e66db5-67c1-4acb-834d-4443a786a556\" class=\"colab-df-container\">\n",
              "    <div>\n",
              "<style scoped>\n",
              "    .dataframe tbody tr th:only-of-type {\n",
              "        vertical-align: middle;\n",
              "    }\n",
              "\n",
              "    .dataframe tbody tr th {\n",
              "        vertical-align: top;\n",
              "    }\n",
              "\n",
              "    .dataframe thead th {\n",
              "        text-align: right;\n",
              "    }\n",
              "</style>\n",
              "<table border=\"1\" class=\"dataframe\">\n",
              "  <thead>\n",
              "    <tr style=\"text-align: right;\">\n",
              "      <th></th>\n",
              "      <th>ID</th>\n",
              "    </tr>\n",
              "  </thead>\n",
              "  <tbody>\n",
              "    <tr>\n",
              "      <th>0</th>\n",
              "      <td>1234</td>\n",
              "    </tr>\n",
              "    <tr>\n",
              "      <th>1</th>\n",
              "      <td>1234</td>\n",
              "    </tr>\n",
              "    <tr>\n",
              "      <th>2</th>\n",
              "      <td>1233</td>\n",
              "    </tr>\n",
              "    <tr>\n",
              "      <th>3</th>\n",
              "      <td>1233</td>\n",
              "    </tr>\n",
              "  </tbody>\n",
              "</table>\n",
              "</div>\n",
              "    <div class=\"colab-df-buttons\">\n",
              "\n",
              "  <div class=\"colab-df-container\">\n",
              "    <button class=\"colab-df-convert\" onclick=\"convertToInteractive('df-e5e66db5-67c1-4acb-834d-4443a786a556')\"\n",
              "            title=\"Convert this dataframe to an interactive table.\"\n",
              "            style=\"display:none;\">\n",
              "\n",
              "  <svg xmlns=\"http://www.w3.org/2000/svg\" height=\"24px\" viewBox=\"0 -960 960 960\">\n",
              "    <path d=\"M120-120v-720h720v720H120Zm60-500h600v-160H180v160Zm220 220h160v-160H400v160Zm0 220h160v-160H400v160ZM180-400h160v-160H180v160Zm440 0h160v-160H620v160ZM180-180h160v-160H180v160Zm440 0h160v-160H620v160Z\"/>\n",
              "  </svg>\n",
              "    </button>\n",
              "\n",
              "  <style>\n",
              "    .colab-df-container {\n",
              "      display:flex;\n",
              "      gap: 12px;\n",
              "    }\n",
              "\n",
              "    .colab-df-convert {\n",
              "      background-color: #E8F0FE;\n",
              "      border: none;\n",
              "      border-radius: 50%;\n",
              "      cursor: pointer;\n",
              "      display: none;\n",
              "      fill: #1967D2;\n",
              "      height: 32px;\n",
              "      padding: 0 0 0 0;\n",
              "      width: 32px;\n",
              "    }\n",
              "\n",
              "    .colab-df-convert:hover {\n",
              "      background-color: #E2EBFA;\n",
              "      box-shadow: 0px 1px 2px rgba(60, 64, 67, 0.3), 0px 1px 3px 1px rgba(60, 64, 67, 0.15);\n",
              "      fill: #174EA6;\n",
              "    }\n",
              "\n",
              "    .colab-df-buttons div {\n",
              "      margin-bottom: 4px;\n",
              "    }\n",
              "\n",
              "    [theme=dark] .colab-df-convert {\n",
              "      background-color: #3B4455;\n",
              "      fill: #D2E3FC;\n",
              "    }\n",
              "\n",
              "    [theme=dark] .colab-df-convert:hover {\n",
              "      background-color: #434B5C;\n",
              "      box-shadow: 0px 1px 3px 1px rgba(0, 0, 0, 0.15);\n",
              "      filter: drop-shadow(0px 1px 2px rgba(0, 0, 0, 0.3));\n",
              "      fill: #FFFFFF;\n",
              "    }\n",
              "  </style>\n",
              "\n",
              "    <script>\n",
              "      const buttonEl =\n",
              "        document.querySelector('#df-e5e66db5-67c1-4acb-834d-4443a786a556 button.colab-df-convert');\n",
              "      buttonEl.style.display =\n",
              "        google.colab.kernel.accessAllowed ? 'block' : 'none';\n",
              "\n",
              "      async function convertToInteractive(key) {\n",
              "        const element = document.querySelector('#df-e5e66db5-67c1-4acb-834d-4443a786a556');\n",
              "        const dataTable =\n",
              "          await google.colab.kernel.invokeFunction('convertToInteractive',\n",
              "                                                    [key], {});\n",
              "        if (!dataTable) return;\n",
              "\n",
              "        const docLinkHtml = 'Like what you see? Visit the ' +\n",
              "          '<a target=\"_blank\" href=https://colab.research.google.com/notebooks/data_table.ipynb>data table notebook</a>'\n",
              "          + ' to learn more about interactive tables.';\n",
              "        element.innerHTML = '';\n",
              "        dataTable['output_type'] = 'display_data';\n",
              "        await google.colab.output.renderOutput(dataTable, element);\n",
              "        const docLink = document.createElement('div');\n",
              "        docLink.innerHTML = docLinkHtml;\n",
              "        element.appendChild(docLink);\n",
              "      }\n",
              "    </script>\n",
              "  </div>\n",
              "\n",
              "\n",
              "<div id=\"df-8f8538e9-074e-444b-92de-4cba2c5f8cf5\">\n",
              "  <button class=\"colab-df-quickchart\" onclick=\"quickchart('df-8f8538e9-074e-444b-92de-4cba2c5f8cf5')\"\n",
              "            title=\"Suggest charts\"\n",
              "            style=\"display:none;\">\n",
              "\n",
              "<svg xmlns=\"http://www.w3.org/2000/svg\" height=\"24px\"viewBox=\"0 0 24 24\"\n",
              "     width=\"24px\">\n",
              "    <g>\n",
              "        <path d=\"M19 3H5c-1.1 0-2 .9-2 2v14c0 1.1.9 2 2 2h14c1.1 0 2-.9 2-2V5c0-1.1-.9-2-2-2zM9 17H7v-7h2v7zm4 0h-2V7h2v10zm4 0h-2v-4h2v4z\"/>\n",
              "    </g>\n",
              "</svg>\n",
              "  </button>\n",
              "\n",
              "<style>\n",
              "  .colab-df-quickchart {\n",
              "      --bg-color: #E8F0FE;\n",
              "      --fill-color: #1967D2;\n",
              "      --hover-bg-color: #E2EBFA;\n",
              "      --hover-fill-color: #174EA6;\n",
              "      --disabled-fill-color: #AAA;\n",
              "      --disabled-bg-color: #DDD;\n",
              "  }\n",
              "\n",
              "  [theme=dark] .colab-df-quickchart {\n",
              "      --bg-color: #3B4455;\n",
              "      --fill-color: #D2E3FC;\n",
              "      --hover-bg-color: #434B5C;\n",
              "      --hover-fill-color: #FFFFFF;\n",
              "      --disabled-bg-color: #3B4455;\n",
              "      --disabled-fill-color: #666;\n",
              "  }\n",
              "\n",
              "  .colab-df-quickchart {\n",
              "    background-color: var(--bg-color);\n",
              "    border: none;\n",
              "    border-radius: 50%;\n",
              "    cursor: pointer;\n",
              "    display: none;\n",
              "    fill: var(--fill-color);\n",
              "    height: 32px;\n",
              "    padding: 0;\n",
              "    width: 32px;\n",
              "  }\n",
              "\n",
              "  .colab-df-quickchart:hover {\n",
              "    background-color: var(--hover-bg-color);\n",
              "    box-shadow: 0 1px 2px rgba(60, 64, 67, 0.3), 0 1px 3px 1px rgba(60, 64, 67, 0.15);\n",
              "    fill: var(--button-hover-fill-color);\n",
              "  }\n",
              "\n",
              "  .colab-df-quickchart-complete:disabled,\n",
              "  .colab-df-quickchart-complete:disabled:hover {\n",
              "    background-color: var(--disabled-bg-color);\n",
              "    fill: var(--disabled-fill-color);\n",
              "    box-shadow: none;\n",
              "  }\n",
              "\n",
              "  .colab-df-spinner {\n",
              "    border: 2px solid var(--fill-color);\n",
              "    border-color: transparent;\n",
              "    border-bottom-color: var(--fill-color);\n",
              "    animation:\n",
              "      spin 1s steps(1) infinite;\n",
              "  }\n",
              "\n",
              "  @keyframes spin {\n",
              "    0% {\n",
              "      border-color: transparent;\n",
              "      border-bottom-color: var(--fill-color);\n",
              "      border-left-color: var(--fill-color);\n",
              "    }\n",
              "    20% {\n",
              "      border-color: transparent;\n",
              "      border-left-color: var(--fill-color);\n",
              "      border-top-color: var(--fill-color);\n",
              "    }\n",
              "    30% {\n",
              "      border-color: transparent;\n",
              "      border-left-color: var(--fill-color);\n",
              "      border-top-color: var(--fill-color);\n",
              "      border-right-color: var(--fill-color);\n",
              "    }\n",
              "    40% {\n",
              "      border-color: transparent;\n",
              "      border-right-color: var(--fill-color);\n",
              "      border-top-color: var(--fill-color);\n",
              "    }\n",
              "    60% {\n",
              "      border-color: transparent;\n",
              "      border-right-color: var(--fill-color);\n",
              "    }\n",
              "    80% {\n",
              "      border-color: transparent;\n",
              "      border-right-color: var(--fill-color);\n",
              "      border-bottom-color: var(--fill-color);\n",
              "    }\n",
              "    90% {\n",
              "      border-color: transparent;\n",
              "      border-bottom-color: var(--fill-color);\n",
              "    }\n",
              "  }\n",
              "</style>\n",
              "\n",
              "  <script>\n",
              "    async function quickchart(key) {\n",
              "      const quickchartButtonEl =\n",
              "        document.querySelector('#' + key + ' button');\n",
              "      quickchartButtonEl.disabled = true;  // To prevent multiple clicks.\n",
              "      quickchartButtonEl.classList.add('colab-df-spinner');\n",
              "      try {\n",
              "        const charts = await google.colab.kernel.invokeFunction(\n",
              "            'suggestCharts', [key], {});\n",
              "      } catch (error) {\n",
              "        console.error('Error during call to suggestCharts:', error);\n",
              "      }\n",
              "      quickchartButtonEl.classList.remove('colab-df-spinner');\n",
              "      quickchartButtonEl.classList.add('colab-df-quickchart-complete');\n",
              "    }\n",
              "    (() => {\n",
              "      let quickchartButtonEl =\n",
              "        document.querySelector('#df-8f8538e9-074e-444b-92de-4cba2c5f8cf5 button');\n",
              "      quickchartButtonEl.style.display =\n",
              "        google.colab.kernel.accessAllowed ? 'block' : 'none';\n",
              "    })();\n",
              "  </script>\n",
              "</div>\n",
              "    </div>\n",
              "  </div>\n"
            ],
            "application/vnd.google.colaboratory.intrinsic+json": {
              "type": "dataframe",
              "summary": "{\n  \"name\": \"ps\",\n  \"rows\": 4,\n  \"fields\": [\n    {\n      \"column\": \"ID\",\n      \"properties\": {\n        \"dtype\": \"number\",\n        \"std\": 0,\n        \"min\": 1233,\n        \"max\": 1234,\n        \"num_unique_values\": 2,\n        \"samples\": [\n          1233,\n          1234\n        ],\n        \"semantic_type\": \"\",\n        \"description\": \"\"\n      }\n    }\n  ]\n}"
            }
          },
          "metadata": {},
          "execution_count": 49
        }
      ]
    },
    {
      "cell_type": "code",
      "source": [
        "def divide():\n",
        "  try:\n",
        "    numerator = int(input('Enter a numerator: '))\n",
        "    denominator = int(input('Enter a denominator: '))\n",
        "    result = numerator / denominator\n",
        "    print(numerator,'over', denominator,'equals', result)\n",
        "  except ValueError:\n",
        "    print('Error: numerator and denominator must be valid integers.')\n",
        "  except ZeroDivisionError:\n",
        "    print('Error: denominator cannot be zero.')\n",
        "  except KeyboardInterrupt: # Press \"Stop\" button\n",
        "    print('Input Interrupted')\n",
        "  except Exception as e:\n",
        "    print('An unexpected error occurred:', e)\n",
        "  finally: # No matter what the outcome is, it will always run. It is good for any necessary cleanup (e.g., closing connections, releasing resources, etc.).\n",
        "    print(\"Python programming is fun !\")\n",
        "\n",
        "\n",
        "def main():\n",
        "  divide()\n",
        "\n",
        "main()\n",
        "\n"
      ],
      "metadata": {
        "id": "ZoI3ws1-9GWk",
        "colab": {
          "base_uri": "https://localhost:8080/"
        },
        "outputId": "c2e1414d-42de-4623-8b60-837ecd7a3184"
      },
      "execution_count": null,
      "outputs": [
        {
          "output_type": "stream",
          "name": "stdout",
          "text": [
            "Enter a numerator: 34\n",
            "Enter a denominator: aa\n",
            "Error: numerator and denominator must be valid integers.\n",
            "Python programming is fun !\n"
          ]
        }
      ]
    },
    {
      "cell_type": "code",
      "source": [
        "\"\"\"\n",
        "Let's put together what we've covered in Pandas for the following exercises. Please see the Canvas lab page for hints as needed.\n",
        "\n",
        "Important: for these exercises, do not hard code row numbers. (i.e., The solutions should work on another similar data set.)\n",
        "\n",
        "All of these answers will be tables (i.e. no plots).\n",
        "\"\"\"\n",
        "import pandas as pd\n",
        "import numpy as np\n",
        "import matplotlib.pyplot as plt\n",
        "import seaborn as sns\n",
        "\n",
        "\n",
        "# Given a DataFrame from this data. **Do not change this cell!\n",
        "# Run this cell to load the data.\n",
        "d = {'category':['citrus','flower','flower','succulent','flower','citrus','vegetable','vegetable','succulent'],\\\n",
        "     'num_in_stock':[19,14,23,30,144,10,345,26,27],\\\n",
        "     'edible':[True,False,True,False,False,True,True,True,False],\\\n",
        "     'decorative': [False,True,True,True,True,False,False,True,True],\\\n",
        "     'unneeded':[3.44,-4.56,3.26,7.32,79.234,-453,445,995,0.48]}\n",
        "plants = pd.DataFrame(d,index=['Lemon','Camelia','Lavender','Jade','Rose','Lime','Tomato','Flowering Kale','Aeonium Sunburst'])\n",
        "plants"
      ],
      "metadata": {
        "id": "-Bff-HeSZzF6"
      },
      "execution_count": null,
      "outputs": []
    },
    {
      "cell_type": "code",
      "source": [
        "# Run this to see the data types of the columns of this data frame.\n",
        "plants.dtypes"
      ],
      "metadata": {
        "id": "dnXYea9mZ0Il"
      },
      "execution_count": null,
      "outputs": []
    },
    {
      "cell_type": "code",
      "source": [
        "# One column is not needed (and named \"unneeded\"). Permanently remove\n",
        "# this column from the plants data without including the code \"plants =...\"\n",
        "\n",
        "del plants['unneeded']\n",
        "print(plants)"
      ],
      "metadata": {
        "id": "GiTNNf4UZ26m"
      },
      "execution_count": null,
      "outputs": []
    },
    {
      "cell_type": "code",
      "source": [
        "# Display the entire row only for plants that are both edible and decorative.\n",
        "# Use DataFrame.loc attribute to access a particular cell in the given Dataframe using the index and column labels.\n",
        "\n",
        "print(plants.loc[(plants['edible'] == True) & (plants['decorative'] == True)])"
      ],
      "metadata": {
        "id": "iTDu0kyIZ5ig"
      },
      "execution_count": null,
      "outputs": []
    },
    {
      "cell_type": "code",
      "source": [
        "# Display the total number of plants in stock for each category.\n",
        "\n",
        "print(plants.groupby('category')['num_in_stock'].sum())\n",
        "plants_category = pd.Series(plants.groupby('category')['num_in_stock'].sum(), name='count').reset_index()\n",
        "print(type(plants_category))\n",
        "plants_category"
      ],
      "metadata": {
        "id": "UHr2DPWUaAA_"
      },
      "execution_count": null,
      "outputs": []
    },
    {
      "cell_type": "code",
      "source": [
        "#plt.figure(figsize = (15,8)) # Use the matplotlib.pyplot.figure() Function to Change the Size of a Seaborn Plot\n",
        "ax = sns.barplot(x='category', y='count', data=plants_category)\n",
        "ax.set_ylabel(\"Count\")\n",
        "ax.set_xlabel(\"Category\")\n",
        "ax.set_title(\"Bar plot of Category Count\")\n",
        "plt.show()"
      ],
      "metadata": {
        "id": "lVHefVPkaAu6"
      },
      "execution_count": null,
      "outputs": []
    },
    {
      "cell_type": "code",
      "source": [
        "# Get the total number of plants in stock for the plant names that start with \"L\".\n",
        "# This one is a challenge\n",
        "\n",
        "index = plants.index\n",
        "print(index)\n",
        "\n",
        "def condition(x):\n",
        "  return x.startswith('L')\n",
        "\n",
        "conditioned_index = [idx for idx, element in enumerate(plants.index) if condition(element)]\n",
        "print(conditioned_index)\n",
        "\n",
        "print(plants.iloc[conditioned_index])\n",
        "\n",
        "print(\"Total: \", plants.iloc[conditioned_index]['num_in_stock'].sum())"
      ],
      "metadata": {
        "id": "Huo_PBw6aDYW"
      },
      "execution_count": null,
      "outputs": []
    },
    {
      "cell_type": "code",
      "source": [
        "# explain: conditioned_index = [idx for idx, element in enumerate(plants.index) if condition(element)]\n",
        "print(plants.index) # i.e Index\n",
        "conditioned_index2 = []\n",
        "for index in plants.index:\n",
        "  if index.startswith('L') == True:\n",
        "    print(f'{index} - yes')\n",
        "    conditioned_index2.append(index)\n",
        "  else:\n",
        "    print(f'{index} - no')\n",
        "\n",
        "print(conditioned_index2)"
      ],
      "metadata": {
        "id": "hwRaAzAraIZ7"
      },
      "execution_count": null,
      "outputs": []
    }
  ]
}