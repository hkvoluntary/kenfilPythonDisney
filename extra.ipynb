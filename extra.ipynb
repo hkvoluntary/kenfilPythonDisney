{
  "nbformat": 4,
  "nbformat_minor": 0,
  "metadata": {
    "colab": {
      "provenance": []
    },
    "kernelspec": {
      "name": "python3",
      "display_name": "Python 3"
    },
    "language_info": {
      "name": "python"
    }
  },
  "cells": [
    {
      "cell_type": "code",
      "execution_count": null,
      "metadata": {
        "colab": {
          "base_uri": "https://localhost:8080/"
        },
        "id": "2OD07Rr_o5Kc",
        "outputId": "b3cd838d-db80-4f97-cb54-299723d2a13b"
      },
      "outputs": [
        {
          "output_type": "stream",
          "name": "stdout",
          "text": [
            "193428.45904\n",
            "193428.46\n"
          ]
        }
      ],
      "source": [
        "number = 193428.45904\n",
        "print(number)\n",
        "print(round(number, 2))"
      ]
    },
    {
      "cell_type": "code",
      "source": [
        "million = 1000000\n",
        "print(f\"{million:,}\")\n"
      ],
      "metadata": {
        "colab": {
          "base_uri": "https://localhost:8080/"
        },
        "id": "dEyn7x3z9TpP",
        "outputId": "d505d01f-b89e-48cc-ec92-9ad16f349ac8"
      },
      "execution_count": null,
      "outputs": [
        {
          "output_type": "stream",
          "name": "stdout",
          "text": [
            "1,000,000\n"
          ]
        }
      ]
    },
    {
      "cell_type": "code",
      "source": [
        "import humanize\n",
        "\n",
        "\n",
        "# Example usage:\n",
        "number = 1500000\n",
        "print(humanize.intword(number))  # Output: 1.5 million\n",
        "print(f\"{number:,}\")\n",
        "print(humanize.intcomma(number, ndigits=2))\n",
        "\n",
        "number = 23928948012\n",
        "print(humanize.intword(number))  # Output: 1.5 billion\n",
        "print(f\"{number:,}\")\n",
        "print(humanize.intcomma(number, ndigits=2))\n",
        "\n",
        "# File size\n",
        "print(humanize.naturalsize(1_000_000)) # 1.0 MB\n",
        "print(humanize.naturalsize(1_000_000_000)) # 1.0 GB\n",
        "print(humanize.naturalsize(1_000_000_000_000)) # 1.0 TB\n",
        "\n"
      ],
      "metadata": {
        "colab": {
          "base_uri": "https://localhost:8080/"
        },
        "id": "2NnrCKwd97CU",
        "outputId": "defe3197-8d9b-44a6-fb4c-877dc292d9b6"
      },
      "execution_count": null,
      "outputs": [
        {
          "output_type": "stream",
          "name": "stdout",
          "text": [
            "1.5 million\n",
            "1,500,000\n",
            "1,500,000.00\n",
            "23.9 billion\n",
            "23,928,948,012\n",
            "23,928,948,012.00\n",
            "1.0 MB\n",
            "1.0 GB\n",
            "1.0 TB\n"
          ]
        }
      ]
    },
    {
      "cell_type": "code",
      "source": [
        "# BMI Calculator\n",
        "import sys\n",
        "\n",
        "# Function to calculate BMI\n",
        "def calculate_bmi(weight, height):\n",
        "    bmi = 0 # initial variable\n",
        "    bmi = weight / (height ** 2)\n",
        "    return bmi\n",
        "\n",
        "# User input for weight and height\n",
        "weight = float(input(\"Enter your weight in kilograms: \"))\n",
        "if (weight < 0):\n",
        "  sys.exit()\n",
        "height = float(input(\"Enter your height in meters: \"))\n",
        "\n",
        "\n",
        "# Calculate BMI\n",
        "bmi = calculate_bmi(weight, height)\n",
        "\n",
        "# Display the result\n",
        "print(f\"Your BMI is: {bmi:.2f}\")\n",
        "\n",
        "# Interpretation of BMI. Create a if elif else block statement\n",
        "if (bmi < 18.5):\n",
        "  print(\"You are underweight\")\n",
        "elif (18.5 <= bmi < 24.9): # bmi >= 18.5 and bmi < 24.9\n",
        "  print(\"you are normal\")\n",
        "elif (25 <= bmi < 29.9):\n",
        "  print(\"Overweight\")\n",
        "else:\n",
        "  print(\"Obese\")"
      ],
      "metadata": {
        "id": "tJdJq70N_b09"
      },
      "execution_count": null,
      "outputs": []
    },
    {
      "cell_type": "code",
      "source": [
        "# Take input for DNA string and store in a variable DNA_string\n",
        "DNA_string = 'GCTAGCCTACG' # Replace this line with the right code\n",
        "\n",
        "# Initialize the RNA output as an empty string\n",
        "RNA_string = ''\n",
        "\n",
        "# Use \"for\" loop to traverse the DNA string. Use \"If..elif..else\" sub block to check and concactenate the appropriate letter\n",
        "# to RNA_string.\n",
        "# Use \"else\" block in the \"If..elif..else\" sub block to output an error message and break if a diffrent letter is encountered\n",
        "\n",
        "for i in DNA_string.upper():\n",
        "    # the upper() method is used to make our program case insensitive\n",
        "    print(i)\n",
        "    print(\"RNA_String:\", RNA_string)\n",
        "    if i == 'G':\n",
        "        RNA_string = RNA_string + 'C'\n",
        "    # Continue the \"elif\" blocks of the \"If..elif..else\" block for the other letters\n",
        "    elif i == 'C':\n",
        "      RNA_string = RNA_string + 'G'\n",
        "    elif i == 'T':\n",
        "      RNA_string = RNA_string + 'A'\n",
        "    elif i == 'A':\n",
        "      RNA_string = RNA_string + 'U'\n",
        "\n",
        "\n",
        "\n",
        "    # Complete the \"If..elif..else\" block with \"else\" block for an error message assigned to RNA_string\n",
        "    # break out of the loop\n",
        "\n",
        "\n",
        "else:\n",
        "    # This else is attached to the for loop\n",
        "    print('Done with Translation')\n",
        "\n",
        "print('DNA output: ', RNA_string)"
      ],
      "metadata": {
        "id": "c-R1NTh8MOOU"
      },
      "execution_count": null,
      "outputs": []
    },
    {
      "cell_type": "code",
      "source": [
        "fruit = [\"banana\", \"cherry\", \"grape\"]\n",
        "fruit.insert(1,\"apple\")\n",
        "print(fruit)"
      ],
      "metadata": {
        "id": "fUMcl9DNi3Qv"
      },
      "execution_count": null,
      "outputs": []
    },
    {
      "cell_type": "code",
      "source": [
        "print(dict1)\n",
        "dict1.pop(\"name\")\n",
        "print(dict1)"
      ],
      "metadata": {
        "id": "1eHEfA5RcV50"
      },
      "execution_count": null,
      "outputs": []
    },
    {
      "cell_type": "code",
      "source": [
        "dict1.popitem()\n",
        "print(dict1)"
      ],
      "metadata": {
        "id": "e_0G7VRPc2xB"
      },
      "execution_count": null,
      "outputs": []
    },
    {
      "cell_type": "code",
      "source": [
        "dict1.clear()\n",
        "print(dict1)"
      ],
      "metadata": {
        "id": "pbQHT7lxdATa"
      },
      "execution_count": null,
      "outputs": []
    },
    {
      "cell_type": "code",
      "source": [
        "from types import new_class\n",
        "text = 'The quick brown fox jumps over a lazy dog'\n",
        "\n",
        "#Length of the 'text' variable\n",
        "print(len(text))\n",
        "\n",
        "#Splitting the string\n",
        "new = text.split(' ')\n",
        "print(new)\n",
        "print(type(new))\n",
        "\n",
        "#Length of the 'new' variable\n",
        "print(len(new))\n",
        "#Middle element of the 'new' variable\n",
        "\n",
        "if (len(new) % 2 != 0): # for odd number\n",
        "  middle_index = len(new) // 2\n",
        "else: # for even number\n",
        "  middle_index = int(len(new) / 2)\n",
        "\n",
        "print(middle_index)\n",
        "#Insert a string to the 'new' variable\n",
        "new.insert(middle_index, \"new word\")\n",
        "print(new)\n",
        "\n",
        "\n",
        "\n"
      ],
      "metadata": {
        "id": "-HnG0MJYYyse"
      },
      "execution_count": null,
      "outputs": []
    },
    {
      "cell_type": "code",
      "source": [
        "if (len(new) % 2 != 0): # for odd number\n",
        "  middle_index = len(new) // 2\n",
        "else: # for even number\n",
        "  middle_index = int(len(new) / 2)\n",
        "print(middle_index)\n",
        "new_list = new[0:middle_index]\n",
        "new_list.append(\"another word\")\n",
        "print(new_list)\n",
        "#new_list.append(new[middle_index:])\n",
        "#print(new_list)\n",
        "#new_list.join(new[middle_index:])\n",
        "string = ' '.join(new_list) + ' '.join(new[middle_index:])\n",
        "print(string)\n",
        "another_list = string.split(\" \")\n",
        "print(another_list)\n",
        "\n"
      ],
      "metadata": {
        "id": "bKnOOa3KYzz-"
      },
      "execution_count": null,
      "outputs": []
    }
  ]
}