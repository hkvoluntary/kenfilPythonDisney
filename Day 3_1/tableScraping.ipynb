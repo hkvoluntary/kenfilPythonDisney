{
  "nbformat": 4,
  "nbformat_minor": 0,
  "metadata": {
    "colab": {
      "provenance": []
    },
    "kernelspec": {
      "name": "python3",
      "display_name": "Python 3"
    },
    "language_info": {
      "name": "python"
    }
  },
  "cells": [
    {
      "cell_type": "code",
      "execution_count": null,
      "metadata": {
        "id": "Sbksyh30iJWI"
      },
      "outputs": [],
      "source": [
        "import requests\n",
        "from bs4 import BeautifulSoup\n",
        "import pandas as pd\n",
        "\n",
        "# URL of the page with the table\n",
        "url = 'https://en.wikipedia.org/wiki/List_of_countries_by_GDP_(nominal)'\n",
        "\n",
        "# Send a GET request to the page\n",
        "response = requests.get(url)\n",
        "\n",
        "# Check if the request was successful\n",
        "if response.status_code == 200:\n",
        "    # Parse the page content\n",
        "    soup = BeautifulSoup(response.text, 'html.parser')\n",
        "    #print(soup.prettify())\n",
        "\n",
        "    # Find the table with GDP data (the table is under the class \"wikitable\")\n",
        "    table = soup.find('table', class_='wikitable')\n",
        "    #print(table)\n",
        "\n",
        "    # Extract table headers\n",
        "    headers = []\n",
        "    headers = [header.text.strip() for header in table.find_all('th')]\n",
        "\n",
        "    ##\n",
        "    # ValueError: 10 columns passed, passed data had 7 columns\n",
        "    ##\n",
        "    #for header in table.find_all('th'):\n",
        "    #    colspan = int(header.get('colspan', 1))\n",
        "    #    if colspan == 1:\n",
        "    #        headers.append(header.text.strip())\n",
        "\n",
        "    print(\"Headers:\", headers)\n",
        "\n",
        "\n",
        "    # Extract table rows\n",
        "    rows = table.find_all('tr')[1:]  # Skip the header row\n",
        "\n",
        "    # Initialize lists to hold row data\n",
        "    data = []\n",
        "    for row in rows:\n",
        "        cells = row.find_all('td')\n",
        "        if len(cells) > 0:\n",
        "            row_data = [cell.text.strip() for cell in cells]\n",
        "            print(\"Row data:\", row_data)\n",
        "            data.append(row_data)\n",
        "    # Create a DataFrame from the data\n",
        "    df = pd.DataFrame(data, columns=headers)\n",
        "\n",
        "    # Print the DataFrame\n",
        "    print(df.head())\n",
        "\n",
        "    # Save the DataFrame to a CSV file\n",
        "    df.to_csv('gdp_data.csv', index=False)\n",
        "\n",
        "else:\n",
        "    print(f\"Failed to retrieve the page. Status code: {response.status_code}\")\n",
        "\n"
      ]
    },
    {
      "cell_type": "markdown",
      "source": [
        "## Exercise\n",
        "\n",
        "* Do the same table scraping for\n",
        "https://en.wikipedia.org/wiki/List_of_countries_by_minimum_wage\n",
        "\n",
        "* Extract the Similar issue with the header. We need to add the header manually.\n",
        "\n",
        "    headers = [\"Country\", \"Minimum wage\", \"Annual Nominal\", \"Annual PPP\", \"Workweek\", \"Hourly Nominal\", \"Hourly PPP\", \"Percent of GDP per capita\", \"Effective per\"]\n",
        "\n",
        "* Save it to DataFrame.\n",
        "* Drop rows \"Hourly Nominal\" for nil value\n",
        "* Remove % and , for 'Percent of GDP per capita'\n",
        "\n",
        "\n",
        "\n"
      ],
      "metadata": {
        "id": "FaWJjyWKiXoF"
      }
    }
  ]
}