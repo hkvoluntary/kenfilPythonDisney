{
  "cells": [
    {
      "cell_type": "markdown",
      "source": [
        "## **Variable**\n"
      ],
      "metadata": {
        "id": "jVnUBoavgU8O"
      }
    },
    {
      "cell_type": "code",
      "execution_count": null,
      "metadata": {
        "id": "NwPQCHCjJbzA"
      },
      "outputs": [],
      "source": [
        "name = \"Bob\"\n",
        "winner = True\n",
        "score = 35"
      ]
    },
    {
      "cell_type": "code",
      "execution_count": null,
      "metadata": {
        "id": "q6J2lkC5JbzD"
      },
      "outputs": [],
      "source": [
        "my_name = 'John Smith'"
      ]
    },
    {
      "cell_type": "code",
      "execution_count": null,
      "metadata": {
        "collapsed": true,
        "id": "Vf379bm0JbzE"
      },
      "outputs": [],
      "source": [
        "v_1 = 8\n",
        "v_2 = 9"
      ]
    },
    {
      "cell_type": "code",
      "execution_count": null,
      "metadata": {
        "collapsed": true,
        "id": "hpZCMlK_JbzF"
      },
      "outputs": [],
      "source": [
        "print(my_name)"
      ]
    },
    {
      "cell_type": "code",
      "execution_count": null,
      "metadata": {
        "collapsed": true,
        "id": "WeBvi3jOJbzG"
      },
      "outputs": [],
      "source": [
        "age = v_1 + v_2"
      ]
    },
    {
      "cell_type": "code",
      "execution_count": null,
      "metadata": {
        "collapsed": true,
        "id": "95KLYm_KJbzG"
      },
      "outputs": [],
      "source": [
        "print ('I am', age, 'years old')"
      ]
    },
    {
      "cell_type": "markdown",
      "source": [
        "## **Type**\n"
      ],
      "metadata": {
        "id": "yAuW0Xl9gG2x"
      }
    },
    {
      "cell_type": "code",
      "source": [
        "ival = 10\n",
        "print(type(ival))"
      ],
      "metadata": {
        "id": "j9jOH8ZMV1IQ"
      },
      "execution_count": null,
      "outputs": []
    },
    {
      "cell_type": "code",
      "source": [
        "fval = 20.2\n",
        "print(type(fval))"
      ],
      "metadata": {
        "id": "hj6qBLi6WGxh"
      },
      "execution_count": null,
      "outputs": []
    },
    {
      "cell_type": "code",
      "source": [
        "x = True\n",
        "print(type(x))"
      ],
      "metadata": {
        "id": "mSppIvGWWJY2"
      },
      "execution_count": null,
      "outputs": []
    },
    {
      "cell_type": "markdown",
      "source": [
        "## **Math Operator**\n"
      ],
      "metadata": {
        "id": "9NMYdmrof1zw"
      }
    },
    {
      "cell_type": "code",
      "execution_count": null,
      "metadata": {
        "collapsed": true,
        "id": "s77kKUCyJbzI"
      },
      "outputs": [],
      "source": [
        "2+3"
      ]
    },
    {
      "cell_type": "code",
      "execution_count": null,
      "metadata": {
        "id": "yZa-N9Q-JbzI"
      },
      "outputs": [],
      "source": [
        "9-3"
      ]
    },
    {
      "cell_type": "code",
      "execution_count": null,
      "metadata": {
        "collapsed": true,
        "id": "nyvHVkphJbzJ"
      },
      "outputs": [],
      "source": [
        "3*8"
      ]
    },
    {
      "cell_type": "code",
      "execution_count": null,
      "metadata": {
        "collapsed": true,
        "id": "7d9fu8JmJbzJ"
      },
      "outputs": [],
      "source": [
        "3/2"
      ]
    },
    {
      "cell_type": "code",
      "execution_count": null,
      "metadata": {
        "collapsed": true,
        "id": "TsU9Cxs0JbzK"
      },
      "outputs": [],
      "source": [
        "9//2"
      ]
    },
    {
      "cell_type": "code",
      "execution_count": null,
      "metadata": {
        "collapsed": true,
        "id": "rhuRy1AIJbzK"
      },
      "outputs": [],
      "source": [
        "8%5"
      ]
    },
    {
      "cell_type": "code",
      "execution_count": null,
      "metadata": {
        "collapsed": true,
        "id": "H-1WTNieJbzK"
      },
      "outputs": [],
      "source": [
        "2**3"
      ]
    },
    {
      "cell_type": "markdown",
      "metadata": {
        "id": "od8pPtXZJbzL"
      },
      "source": [
        "## **Comments**\n"
      ]
    },
    {
      "cell_type": "code",
      "execution_count": null,
      "metadata": {
        "collapsed": true,
        "id": "m5gAjgxVJbzL"
      },
      "outputs": [],
      "source": [
        "# This line is ignored"
      ]
    },
    {
      "cell_type": "code",
      "source": [
        "# This is a multiline comment\n",
        "# This line and the line above are both ignored by the interpreter"
      ],
      "metadata": {
        "id": "UZMDKSt-hRPT"
      },
      "execution_count": null,
      "outputs": []
    },
    {
      "cell_type": "code",
      "execution_count": null,
      "metadata": {
        "collapsed": true,
        "id": "8W6owQ1MJbzL"
      },
      "outputs": [],
      "source": [
        "\"\"\"\n",
        "This is a multiline comment\n",
        "This line and the line above are both ignored by the interpreter\n",
        "\"\"\""
      ]
    },
    {
      "cell_type": "markdown",
      "source": [
        "## **User Input**\n"
      ],
      "metadata": {
        "id": "V4rM1yGejUnl"
      }
    },
    {
      "cell_type": "code",
      "source": [
        "var = input('Enter a value: ')\n",
        "\n",
        "# Print the value and the data type BEFORE conversion\n",
        "print(var, type(var))"
      ],
      "metadata": {
        "id": "kEP0kRPPjak5"
      },
      "execution_count": null,
      "outputs": []
    },
    {
      "cell_type": "code",
      "source": [
        "# Use the respective functions to convert the string value to that data type\n",
        "var1 = float(var)\n",
        "\n",
        "# Print the value and the data type AFTER conversion\n",
        "print(var1, type(var1))"
      ],
      "metadata": {
        "id": "8cImc71XjdDB"
      },
      "execution_count": null,
      "outputs": []
    },
    {
      "cell_type": "code",
      "source": [
        "var2 = float(input('Enter a value: '))\n",
        "print(var2)"
      ],
      "metadata": {
        "id": "CTRJN3okjo8L"
      },
      "execution_count": null,
      "outputs": []
    },
    {
      "cell_type": "markdown",
      "source": [
        "## **Exercise 1**\n",
        "#### **BMI Calculator!!**\n",
        "Write a program that calculates BMI (Body Mass Index) based on user input for height and weight.\n",
        "\n",
        "* Prompt the user to enter their weight in kilograms.\n",
        "* Prompt the user to enter their height in meters.\n",
        "* Calculate BMI using the formula BMI = weight / (height ** 2)."
      ],
      "metadata": {
        "id": "ZkLCku03lXiJ"
      }
    },
    {
      "cell_type": "code",
      "source": [
        "# User input for weight and height\n",
        "\n",
        "# calculate BMI\n",
        "\n",
        "# Display the result\n"
      ],
      "metadata": {
        "id": "4BZFY64CldPj"
      },
      "execution_count": null,
      "outputs": []
    },
    {
      "cell_type": "markdown",
      "metadata": {
        "id": "LqLwpXewJbzM"
      },
      "source": [
        "## **Strings**\n"
      ]
    },
    {
      "cell_type": "code",
      "execution_count": null,
      "metadata": {
        "collapsed": true,
        "id": "ooEaiaP0JbzM"
      },
      "outputs": [],
      "source": [
        "name_1 = 'John Wick'\n",
        "name_2 = \"Indiana Jones\""
      ]
    },
    {
      "cell_type": "code",
      "execution_count": null,
      "metadata": {
        "collapsed": true,
        "id": "ITSgJV5pJbzM"
      },
      "outputs": [],
      "source": [
        "# this is a string and not an integer\n",
        "age = '2'"
      ]
    },
    {
      "cell_type": "code",
      "execution_count": null,
      "metadata": {
        "collapsed": true,
        "id": "TdFySTyTJbzM"
      },
      "outputs": [],
      "source": [
        "# Start with a double quote if you use a single quote in your string\n",
        "f = \"This is Del's pencil\""
      ]
    },
    {
      "cell_type": "code",
      "execution_count": null,
      "metadata": {
        "collapsed": true,
        "id": "uKzilGVSJbzN"
      },
      "outputs": [],
      "source": [
        "# Start with a single quote if you use a double quote in your string\n",
        "f = 'Francis said \"This is my pencil\"'"
      ]
    },
    {
      "cell_type": "code",
      "execution_count": null,
      "metadata": {
        "collapsed": true,
        "id": "jusFlW0CJbzN"
      },
      "outputs": [],
      "source": [
        "print (f)"
      ]
    },
    {
      "cell_type": "markdown",
      "metadata": {
        "id": "m-2FaICeJbzP"
      },
      "source": [
        "## **String Indexing**\n"
      ]
    },
    {
      "cell_type": "code",
      "execution_count": null,
      "metadata": {
        "collapsed": true,
        "id": "s72_bPatJbzR"
      },
      "outputs": [],
      "source": [
        "name = 'Johnson Smith'"
      ]
    },
    {
      "cell_type": "code",
      "execution_count": null,
      "metadata": {
        "collapsed": true,
        "id": "OWe6ConAJbzS"
      },
      "outputs": [],
      "source": [
        "name[0]"
      ]
    },
    {
      "cell_type": "code",
      "execution_count": null,
      "metadata": {
        "collapsed": true,
        "id": "HzLXgB_AJbzS"
      },
      "outputs": [],
      "source": [
        "name[1]"
      ]
    },
    {
      "cell_type": "code",
      "execution_count": null,
      "metadata": {
        "collapsed": true,
        "id": "fpYQDY0dJbzS"
      },
      "outputs": [],
      "source": [
        "name[6]"
      ]
    },
    {
      "cell_type": "code",
      "execution_count": null,
      "metadata": {
        "collapsed": true,
        "id": "V4L_cT3-JbzT"
      },
      "outputs": [],
      "source": [
        "name[12]"
      ]
    },
    {
      "cell_type": "markdown",
      "metadata": {
        "id": "KcCb940cJbzT"
      },
      "source": [
        "**You can start indexing from the right side with negative indexes starting with index -1**"
      ]
    },
    {
      "cell_type": "code",
      "execution_count": null,
      "metadata": {
        "collapsed": true,
        "id": "mbIIXAGcJbzT"
      },
      "outputs": [],
      "source": [
        "name[-1]"
      ]
    },
    {
      "cell_type": "code",
      "execution_count": null,
      "metadata": {
        "collapsed": true,
        "id": "WuOfTkJTJbzT"
      },
      "outputs": [],
      "source": [
        "name[-2]"
      ]
    },
    {
      "cell_type": "code",
      "execution_count": null,
      "metadata": {
        "collapsed": true,
        "id": "TkqDQS_mJbzT"
      },
      "outputs": [],
      "source": [
        "name[-13]"
      ]
    },
    {
      "cell_type": "markdown",
      "metadata": {
        "id": "90x7fnlIJbzT"
      },
      "source": [
        "### **String Slicing**"
      ]
    },
    {
      "cell_type": "code",
      "execution_count": null,
      "metadata": {
        "collapsed": true,
        "id": "_k-KMpMYJbzU"
      },
      "outputs": [],
      "source": [
        "name"
      ]
    },
    {
      "cell_type": "code",
      "execution_count": null,
      "metadata": {
        "collapsed": true,
        "id": "eXJpG5EjJbzU"
      },
      "outputs": [],
      "source": [
        "name[0:6]"
      ]
    },
    {
      "cell_type": "code",
      "execution_count": null,
      "metadata": {
        "collapsed": true,
        "id": "OQtOJutEJbzU"
      },
      "outputs": [],
      "source": [
        "name[7:13]"
      ]
    },
    {
      "cell_type": "code",
      "execution_count": null,
      "metadata": {
        "collapsed": true,
        "id": "GypGTqPDJbzU"
      },
      "outputs": [],
      "source": [
        "name[1:4]"
      ]
    },
    {
      "cell_type": "code",
      "source": [
        "name[6] = 'c'"
      ],
      "metadata": {
        "id": "OpCNU-MSYEp7"
      },
      "execution_count": null,
      "outputs": []
    },
    {
      "cell_type": "markdown",
      "metadata": {
        "id": "VFFrbkSbJbzU"
      },
      "source": [
        "### **Some String Functions and Methods**\n",
        "\n"
      ]
    },
    {
      "cell_type": "code",
      "execution_count": null,
      "metadata": {
        "collapsed": true,
        "id": "8rsCX3bbzHbF"
      },
      "outputs": [],
      "source": [
        "name = 'Johnson Smith'"
      ]
    },
    {
      "cell_type": "markdown",
      "source": [
        "**Length of string**"
      ],
      "metadata": {
        "id": "sx1iSc75zKSg"
      }
    },
    {
      "cell_type": "code",
      "execution_count": null,
      "metadata": {
        "collapsed": true,
        "id": "eXXI-Sz0JbzU"
      },
      "outputs": [],
      "source": [
        "len(name)"
      ]
    },
    {
      "cell_type": "markdown",
      "metadata": {
        "id": "r6TkmPasJbzV"
      },
      "source": [
        "**Convert to string**"
      ]
    },
    {
      "cell_type": "code",
      "execution_count": null,
      "metadata": {
        "collapsed": true,
        "id": "VrBKRYOpJbzV"
      },
      "outputs": [],
      "source": [
        "age = 3"
      ]
    },
    {
      "cell_type": "code",
      "execution_count": null,
      "metadata": {
        "collapsed": true,
        "id": "KgiOJoXeJbzV"
      },
      "outputs": [],
      "source": [
        "str(age)"
      ]
    },
    {
      "cell_type": "markdown",
      "metadata": {
        "id": "Q1083YjaJbzV"
      },
      "source": [
        "**Convert to lower case**"
      ]
    },
    {
      "cell_type": "code",
      "execution_count": null,
      "metadata": {
        "collapsed": true,
        "id": "0iMxtIk3JbzV"
      },
      "outputs": [],
      "source": [
        "name.lower()"
      ]
    },
    {
      "cell_type": "markdown",
      "metadata": {
        "id": "J8d9uFvDJbzV"
      },
      "source": [
        "**Convert to upper case**"
      ]
    },
    {
      "cell_type": "code",
      "execution_count": null,
      "metadata": {
        "collapsed": true,
        "id": "QXVx-UBKJbzV"
      },
      "outputs": [],
      "source": [
        "name.upper()"
      ]
    },
    {
      "cell_type": "code",
      "execution_count": null,
      "metadata": {
        "id": "8PaS-4gRJbzV"
      },
      "outputs": [],
      "source": [
        "name = 'Francis'"
      ]
    },
    {
      "cell_type": "code",
      "execution_count": null,
      "metadata": {
        "id": "L1zQTs6KJbzW"
      },
      "outputs": [],
      "source": [
        "name.isdigit()"
      ]
    },
    {
      "cell_type": "code",
      "execution_count": null,
      "metadata": {
        "id": "V2bvNTsnJbzW"
      },
      "outputs": [],
      "source": [
        "name.isalpha()"
      ]
    },
    {
      "cell_type": "code",
      "execution_count": null,
      "metadata": {
        "id": "HsC8FFxAJbzW"
      },
      "outputs": [],
      "source": [
        "str(age).isdigit()"
      ]
    },
    {
      "cell_type": "markdown",
      "metadata": {
        "id": "KaD4_Yv_JbzW"
      },
      "source": [
        "**Replace characters**"
      ]
    },
    {
      "cell_type": "code",
      "execution_count": null,
      "metadata": {
        "id": "1jgZyg6LJbzW"
      },
      "outputs": [],
      "source": [
        "name.replace('s','k')"
      ]
    },
    {
      "cell_type": "markdown",
      "metadata": {
        "id": "PiLfUubcJbzW"
      },
      "source": [
        "**Split a string using a delimiter character**"
      ]
    },
    {
      "cell_type": "code",
      "execution_count": null,
      "metadata": {
        "collapsed": true,
        "id": "p2rNlVaIJbzW"
      },
      "outputs": [],
      "source": [
        "text = 'I am going to the University of Cincinnati'\n",
        "name = \"Mary-Jane Watson\""
      ]
    },
    {
      "cell_type": "code",
      "execution_count": null,
      "metadata": {
        "collapsed": true,
        "id": "xVJl0euwJbzX"
      },
      "outputs": [],
      "source": [
        "text.split(' ')"
      ]
    },
    {
      "cell_type": "code",
      "execution_count": null,
      "metadata": {
        "collapsed": true,
        "id": "B_ONGe-8JbzX"
      },
      "outputs": [],
      "source": [
        "name.split('-')"
      ]
    },
    {
      "cell_type": "markdown",
      "metadata": {
        "id": "Da35EA9lJbzX"
      },
      "source": [
        "### **String Concatenation**\n"
      ]
    },
    {
      "cell_type": "code",
      "execution_count": null,
      "metadata": {
        "id": "fT5ABaDwJbzX"
      },
      "outputs": [],
      "source": [
        "string1 = 'My name is '\n",
        "name = 'John'\n",
        "string2 = string1 + name\n",
        "print(string2)"
      ]
    },
    {
      "cell_type": "code",
      "execution_count": null,
      "metadata": {
        "collapsed": true,
        "id": "TiPzbzLbJbzX"
      },
      "outputs": [],
      "source": [
        "string1 = 'My name is '\n",
        "name = 'John '\n",
        "age = 16\n",
        "string2 = string1 + name + 'I am ' + str(age) + ' years old'\n",
        "print(string2)"
      ]
    },
    {
      "cell_type": "markdown",
      "source": [
        "### **Dates and times**"
      ],
      "metadata": {
        "id": "z5ndXvOz67Ox"
      }
    },
    {
      "cell_type": "code",
      "source": [
        "from datetime import datetime, date, time\n",
        "dt = datetime(2011, 10, 29, 20, 30, 21)\n",
        "print(dt.day)\n",
        "print(dt.minute)"
      ],
      "metadata": {
        "id": "HZ4-gM7z7YmG"
      },
      "execution_count": null,
      "outputs": []
    },
    {
      "cell_type": "code",
      "source": [
        "print(dt.date())\n",
        "print(dt.time())"
      ],
      "metadata": {
        "id": "OnXG8ikm7tiy"
      },
      "execution_count": null,
      "outputs": []
    },
    {
      "cell_type": "code",
      "source": [
        "dt.strftime(\"%Y-%m-%d %H:%M\")"
      ],
      "metadata": {
        "id": "duJbA_Gz8lnk"
      },
      "execution_count": null,
      "outputs": []
    },
    {
      "cell_type": "code",
      "source": [
        "datetime.strptime(\"20091031\", \"%Y%m%d\")"
      ],
      "metadata": {
        "id": "2bu7-LbD9uy0"
      },
      "execution_count": null,
      "outputs": []
    },
    {
      "cell_type": "code",
      "source": [
        "dt2 = datetime(2011, 11, 15, 22, 30)\n",
        "delta = dt2 - dt\n",
        "print(delta)\n",
        "print(type(delta))\n"
      ],
      "metadata": {
        "id": "FbxdFbzX-cH_"
      },
      "execution_count": null,
      "outputs": []
    },
    {
      "cell_type": "code",
      "source": [
        "from datetime import date\n",
        "\n",
        "today = date.today()\n",
        "\n",
        "# dd/mm/YY\n",
        "d1 = today.strftime(\"%d/%m/%Y\")\n",
        "print(\"d1 =\", d1)\n",
        "\n",
        "# Textual month, day and year\n",
        "d2 = today.strftime(\"%B %d, %Y\")\n",
        "print(\"d2 =\", d2)\n",
        "\n",
        "# mm/dd/y\n",
        "d3 = today.strftime(\"%m/%d/%y\")\n",
        "print(\"d3 =\", d3)\n",
        "\n",
        "# Month abbreviation, day and year\n",
        "d4 = today.strftime(\"%b-%d-%Y\")\n",
        "print(\"d4 =\", d4)"
      ],
      "metadata": {
        "id": "hJqTZW7k9Nax"
      },
      "execution_count": null,
      "outputs": []
    },
    {
      "cell_type": "code",
      "source": [
        "from datetime import datetime\n",
        "\n",
        "# datetime object containing current date and time\n",
        "now = datetime.now()\n",
        "\n",
        "print(\"now =\", now)\n",
        "\n",
        "# dd/mm/YY H:M:S\n",
        "dt_string = now.strftime(\"%d/%m/%Y %H:%M:%S\")\n",
        "print(\"date and time =\", dt_string)\n"
      ],
      "metadata": {
        "id": "Wx3YhmfDAuNz"
      },
      "execution_count": null,
      "outputs": []
    },
    {
      "cell_type": "markdown",
      "source": [
        "### Language Semantics\n"
      ],
      "metadata": {
        "id": "ZzYyrQGrC9ho"
      }
    },
    {
      "cell_type": "code",
      "source": [
        "n = int(input(\"Enter no of students:\"))\n",
        "Marks = [20,50,60,70,80]\n",
        "def maxMarks(n, senu):\n",
        "  max = 0\n",
        "  for x in range(n):\n",
        "    if senu[max] < senu[x]:\n",
        "      max = x\n",
        "  return max\n",
        "\n",
        "x = maxMarks(n,Marks)\n",
        "print(\"Maximum Mark is\", Marks[x])"
      ],
      "metadata": {
        "id": "K6YfAV1BFwfQ"
      },
      "execution_count": null,
      "outputs": []
    },
    {
      "cell_type": "markdown",
      "source": [
        "### **Comparison Operators **"
      ],
      "metadata": {
        "id": "BD8PAgOsKgCK"
      }
    },
    {
      "cell_type": "code",
      "source": [
        "a = 5\n",
        "b = 6\n",
        "name = 'Smith'"
      ],
      "metadata": {
        "id": "zJ7eGxmeKfyJ"
      },
      "execution_count": null,
      "outputs": []
    },
    {
      "cell_type": "code",
      "source": [
        "print(a == 5)\n",
        "print(a == b)"
      ],
      "metadata": {
        "id": "OhSHCwsjKxwr"
      },
      "execution_count": null,
      "outputs": []
    },
    {
      "cell_type": "code",
      "source": [
        "print(a != b)\n",
        "print(name != 'Smith')"
      ],
      "metadata": {
        "id": "u6zZ5S7eK7JS"
      },
      "execution_count": null,
      "outputs": []
    },
    {
      "cell_type": "code",
      "source": [
        "print(a < b)\n",
        "print(b > 7)\n"
      ],
      "metadata": {
        "id": "kms_8ZzmLBr5"
      },
      "execution_count": null,
      "outputs": []
    },
    {
      "cell_type": "code",
      "source": [
        "print(a <= 5)\n",
        "print(b >= 7)"
      ],
      "metadata": {
        "id": "UkdoYBgLLGHn"
      },
      "execution_count": null,
      "outputs": []
    },
    {
      "cell_type": "markdown",
      "source": [
        "### Logical Operators"
      ],
      "metadata": {
        "id": "XX72HaC9LLV3"
      }
    },
    {
      "cell_type": "code",
      "source": [
        "a = 5\n",
        "b = 6"
      ],
      "metadata": {
        "id": "Q9ZRf1JWLRLx"
      },
      "execution_count": null,
      "outputs": []
    },
    {
      "cell_type": "code",
      "source": [
        "print(a <= 5 and a < b)\n",
        "print(a <= 5 and b >= 7)"
      ],
      "metadata": {
        "id": "Qtv-3ybCPITq"
      },
      "execution_count": null,
      "outputs": []
    },
    {
      "cell_type": "code",
      "source": [
        "print(a <= 5 or a < b)\n",
        "print(a <= 5 or b >= 7)"
      ],
      "metadata": {
        "id": "kPxqFzrmPOLV"
      },
      "execution_count": null,
      "outputs": []
    },
    {
      "cell_type": "code",
      "source": [
        "not(a <= 5)"
      ],
      "metadata": {
        "id": "f65AUf4cPWRF"
      },
      "execution_count": null,
      "outputs": []
    },
    {
      "cell_type": "markdown",
      "metadata": {
        "id": "wxILHGq5LiIK"
      },
      "source": [
        "### **🍙Decision Blocks**\n"
      ]
    },
    {
      "cell_type": "code",
      "execution_count": null,
      "metadata": {
        "id": "qzYmpKJALiIK"
      },
      "outputs": [],
      "source": [
        "a = 5\n",
        "if a <= 5:\n",
        "    print('\\'a\\' is less than or equal to 5')\n",
        "    print('This statement is also executed under the if block')"
      ]
    },
    {
      "cell_type": "code",
      "execution_count": null,
      "metadata": {
        "id": "C3W34zjrLiIL"
      },
      "outputs": [],
      "source": [
        "if a <= 4:\n",
        "    print('\\'a\\' is less than or equal to 5')\n",
        "    print('This statement is also executed under the if block')\n",
        "print('DONE')"
      ]
    },
    {
      "cell_type": "code",
      "execution_count": null,
      "metadata": {
        "id": "2Zj5cXdPLiIM"
      },
      "outputs": [],
      "source": [
        "a = 6\n",
        "if a <= 5:\n",
        "    print('\\'a\\' is less than or equal to 5')\n",
        "    print('This statement is also executed under the if block')\n",
        "else:\n",
        "    print('\\'a\\' must be greater than 5')\n",
        "    print('This statement is also executed under the else block')\n",
        "print('DONE')"
      ]
    },
    {
      "cell_type": "code",
      "execution_count": null,
      "metadata": {
        "id": "vMT_IJY9LiIM"
      },
      "outputs": [],
      "source": [
        "b = input('Type a number for \\'b\\': ')  # '\\' is an escape character\n",
        "a = float(b)\n",
        "if a <= 5:\n",
        "    print('\\'a\\' is less than or equal to 5')\n",
        "elif a > 5 and a <= 8:\n",
        "    print('\\'a\\' is greater than 5 and less than or equal to 8')\n",
        "elif a > 8 and a <= 10:\n",
        "    print('\\'a\\' is greater than 8 and less than or equal to 10')\n",
        "else:\n",
        "    print('\\'a\\' must be greater than 10')\n",
        "print('DONE')"
      ]
    },
    {
      "cell_type": "markdown",
      "source": [
        "### Function"
      ],
      "metadata": {
        "id": "hgRRJ4RlV_JO"
      }
    },
    {
      "cell_type": "code",
      "source": [
        "def printme(var):\n",
        "    #This returns the variable passed into the function\n",
        "    return var"
      ],
      "metadata": {
        "id": "fWv7hbtnVrar"
      },
      "execution_count": null,
      "outputs": []
    },
    {
      "cell_type": "code",
      "source": [
        "# 1st Function call\n",
        "printme('First call to user defined function')"
      ],
      "metadata": {
        "id": "6-Y4KpTLVvlH"
      },
      "execution_count": null,
      "outputs": []
    },
    {
      "cell_type": "code",
      "source": [
        "# 2nd Function call\n",
        "printme(10)"
      ],
      "metadata": {
        "id": "5YBooaHSVwEl"
      },
      "execution_count": null,
      "outputs": []
    },
    {
      "cell_type": "markdown",
      "source": [
        "### Exercise  2\n",
        "\n",
        "\n",
        "1.   Use function to calculate BMI\n",
        "2.   Based on the calculated BMI along with an interpretation.\n",
        "*   \"You are underweight\" if BMI is less than 18.5\n",
        "*   \"You have a normal weight\" if BMI between 18.5 and 24.9\n",
        "*   \"YYou are overweight\" if BMI between 25 and 29.9\n",
        "*   \"You are obese\"\n"
      ],
      "metadata": {
        "id": "PbGKHQcST74S"
      }
    },
    {
      "cell_type": "code",
      "source": [
        "# BMI Calculator\n",
        "\n",
        "# Function to calculate BMI\n",
        "def calculate_bmi(weight, height):\n",
        "    bmi = 0 # initial variable\n",
        "    return bmi\n",
        "\n",
        "# User input for weight and height\n",
        "weight = float(input(\"Enter your weight in kilograms: \"))\n",
        "height = float(input(\"Enter your height in meters: \"))\n",
        "\n",
        "# Calculate BMI\n",
        "bmi = calculate_bmi(weight, height)\n",
        "\n",
        "# Display the result\n",
        "print(f\"Your BMI is: {bmi:.2f}\")\n",
        "\n",
        "# Interpretation of BMI. Create a if elif else block statement\n"
      ],
      "metadata": {
        "id": "GvYHHRqphuWk"
      },
      "execution_count": null,
      "outputs": []
    },
    {
      "cell_type": "markdown",
      "source": [
        "### Loop"
      ],
      "metadata": {
        "id": "C41wjCmQZrlL"
      }
    },
    {
      "cell_type": "markdown",
      "source": [
        "#### While loop"
      ],
      "metadata": {
        "id": "XTi5ptLhdOdQ"
      }
    },
    {
      "cell_type": "code",
      "source": [
        "count = 0\n",
        "while count < 10:\n",
        "  print(count)\n",
        "  count = count + 1 # count += 1, short-hand notation to increment a variable\n"
      ],
      "metadata": {
        "id": "CHYhBNEbZmC6"
      },
      "execution_count": null,
      "outputs": []
    },
    {
      "cell_type": "code",
      "source": [
        "# CAUTION - Infinite loop\n",
        "count = 0\n",
        "while count >= 0:\n",
        "  print(count)\n",
        "  count += 1"
      ],
      "metadata": {
        "id": "S691Z-PTavXp"
      },
      "execution_count": null,
      "outputs": []
    },
    {
      "cell_type": "code",
      "source": [
        "count = 0\n",
        "while count >= 0:\n",
        "    print(count)\n",
        "    count +=1 # count = count + 1\n",
        "    if count >= 10:\n",
        "        break"
      ],
      "metadata": {
        "id": "KpOxnhM2bS3c"
      },
      "execution_count": null,
      "outputs": []
    },
    {
      "cell_type": "code",
      "source": [
        "import random #will explain import later\n",
        "count = 0\n",
        "while count < 3:\n",
        "    num = random.randint(1,6) # This will generate a random number between 1 and 6\n",
        "    print(num)\n",
        "    if num == 5:\n",
        "        print('sorry, you lose!')\n",
        "        break\n",
        "    count +=1\n",
        "else:\n",
        "    print('You win!')"
      ],
      "metadata": {
        "id": "LspTUVRwbqWF"
      },
      "execution_count": null,
      "outputs": []
    },
    {
      "cell_type": "markdown",
      "source": [
        "#### For Loop"
      ],
      "metadata": {
        "id": "RoMnCsIydVlY"
      }
    },
    {
      "cell_type": "code",
      "source": [
        "for var in 'string':\n",
        "    print(var)\n"
      ],
      "metadata": {
        "id": "kTsWRqLjdbBe"
      },
      "execution_count": null,
      "outputs": []
    },
    {
      "cell_type": "code",
      "source": [
        "k = 'string'\n",
        "for var in k:\n",
        "    print(var.upper())"
      ],
      "metadata": {
        "id": "QWToWeHUdeAK"
      },
      "execution_count": null,
      "outputs": []
    },
    {
      "cell_type": "code",
      "source": [
        "list1 = ['banana','orange','mango']\n",
        "for fruit in list1:\n",
        "    print(fruit)"
      ],
      "metadata": {
        "id": "HY9P5Ylhdgxn"
      },
      "execution_count": null,
      "outputs": []
    },
    {
      "cell_type": "code",
      "source": [
        "for num in (2,4,1,34,5):\n",
        "    print(num)"
      ],
      "metadata": {
        "id": "H34OCagddiuo"
      },
      "execution_count": null,
      "outputs": []
    },
    {
      "cell_type": "code",
      "source": [
        "for num in range(10):\n",
        "    print(num)"
      ],
      "metadata": {
        "id": "NCmMs1L-eCCO"
      },
      "execution_count": null,
      "outputs": []
    },
    {
      "cell_type": "code",
      "source": [
        "for num in range(-6,6):\n",
        "    print(num)"
      ],
      "metadata": {
        "id": "14ifsrV7ebOB"
      },
      "execution_count": null,
      "outputs": []
    },
    {
      "cell_type": "code",
      "source": [
        "for num in range(0,20,4):\n",
        "    print(num)"
      ],
      "metadata": {
        "id": "UlXpEALledip"
      },
      "execution_count": null,
      "outputs": []
    },
    {
      "cell_type": "markdown",
      "source": [
        "### Nested Loop"
      ],
      "metadata": {
        "id": "-FYXpgdJwgH-"
      }
    },
    {
      "cell_type": "code",
      "source": [
        "names = ['Kelly', 'Jessa', 'Emma']\n",
        "# outer loop\n",
        "for name in names:\n",
        "    # inner while loop\n",
        "    count = 0\n",
        "    while count < 5:\n",
        "        print(name, end=' ')\n",
        "        # increment counter\n",
        "        count = count + 1\n",
        "    print()"
      ],
      "metadata": {
        "id": "clwftS3PwmA4"
      },
      "execution_count": null,
      "outputs": []
    },
    {
      "cell_type": "markdown",
      "source": [
        "### For..else loop blocks"
      ],
      "metadata": {
        "id": "rn6lH_OuRIcK"
      }
    },
    {
      "cell_type": "code",
      "source": [
        "fruits = ['banana','apple','orange','tomato','pear']\n",
        "print('You have...')\n",
        "for f in fruits:\n",
        "    if f == 'tomato':\n",
        "        print('tomato is not a fruit!')\n",
        "        break\n",
        "    print(f)\n",
        "else:\n",
        "    print('A fine selection of fruits!')\n"
      ],
      "metadata": {
        "id": "yGPc2nFUfIN2"
      },
      "execution_count": null,
      "outputs": []
    },
    {
      "cell_type": "markdown",
      "source": [
        "### Exercise 3\n",
        "\n",
        "DNA to RNA Transcription <br>\n",
        "The process of converting DNA to RNA  <br>\n",
        "G->C <br>\n",
        "C->G <br>\n",
        "A->T <br>\n",
        "T->A <br>\n",
        "Example: <br>\n",
        "**Input:** GCTAGCCTACG   <br>\n",
        "**Output:** CGATCGGATGC <br>\n",
        "\n",
        "Write a program that takes a DNA string input from a user and transcripes the string into an RNA string using rules above\n",
        "\n",
        "* Your program should be case insensitive\n",
        "* The program should exit if any other letter aside G,C, A nad T is encountered in the DNA string\n",
        "* Your program should output the RNA string in upper cases\n",
        "\n"
      ],
      "metadata": {
        "id": "QwVdzp7Fghib"
      }
    },
    {
      "cell_type": "code",
      "source": [
        "# Take input for DNA string and store in a variable DNA_string\n",
        "DNA_string = '' # Replace this line with the right code\n",
        "\n",
        "# Initialize the RNA output as an empty string\n",
        "RNA_string = ''\n",
        "\n",
        "# Use \"for\" loop to traverse the DNA string. Use \"If..elif..else\" sub block to check and concactenate the appropriate letter\n",
        "# to RNA_string.\n",
        "# Use \"else\" block in the \"If..elif..else\" sub block to output an error message and break if a diffrent letter is encountered\n",
        "\n",
        "for i in DNA_string.upper():\n",
        "    # the upper() method is used to make our program case insensitive\n",
        "    if i == 'G':\n",
        "        RNA_string = RNA_string + 'C'\n",
        "    # Continue the \"elif\" blocks of the \"If..elif..else\" block for the other letters\n",
        "\n",
        "\n",
        "\n",
        "\n",
        "    # Complete the \"If..elif..else\" block with \"else\" block for an error message assigned to RNA_string\n",
        "    # break out of the loop\n",
        "\n",
        "\n",
        "else:\n",
        "    # This else is attached to the for loop\n",
        "    print('Done with Translation')\n",
        "\n",
        "print('DNA output: ', RNA_string)"
      ],
      "metadata": {
        "id": "SL4SkWvdhmgw"
      },
      "execution_count": null,
      "outputs": []
    },
    {
      "cell_type": "markdown",
      "source": [
        "### Data Structure"
      ],
      "metadata": {
        "id": "wdhlXXVrsBYM"
      }
    },
    {
      "cell_type": "markdown",
      "source": [
        "#### List"
      ],
      "metadata": {
        "id": "iYdJZqD3sGpx"
      }
    },
    {
      "cell_type": "code",
      "source": [
        "list1 = ['physics','astronomy',56.98,'MJ',-9.36]\n",
        "\n",
        "# list within a list\n",
        "list2 = ['chemistry','biology',77.98,[3,4,65],'EE',-56]"
      ],
      "metadata": {
        "id": "gxGMbuNWsFao"
      },
      "execution_count": null,
      "outputs": []
    },
    {
      "cell_type": "code",
      "source": [
        "print (list1)\n",
        "print(list2)\n"
      ],
      "metadata": {
        "id": "pSxZpdNzsA4g"
      },
      "execution_count": null,
      "outputs": []
    },
    {
      "cell_type": "code",
      "execution_count": null,
      "metadata": {
        "collapsed": true,
        "id": "tP4czlz-JbzZ"
      },
      "outputs": [],
      "source": [
        "list1[0]"
      ]
    },
    {
      "cell_type": "code",
      "execution_count": null,
      "metadata": {
        "collapsed": true,
        "id": "XfEITGJkJbzZ"
      },
      "outputs": [],
      "source": [
        "list1[1]"
      ]
    },
    {
      "cell_type": "code",
      "execution_count": null,
      "metadata": {
        "collapsed": true,
        "id": "L46i99SqJbzZ"
      },
      "outputs": [],
      "source": [
        "list1[4]d"
      ]
    },
    {
      "cell_type": "code",
      "execution_count": null,
      "metadata": {
        "collapsed": true,
        "id": "Xjz8d1d2Jbza"
      },
      "outputs": [],
      "source": [
        "list1[-1]"
      ]
    },
    {
      "cell_type": "code",
      "source": [
        "\n",
        "list1[1]"
      ],
      "metadata": {
        "id": "PMzKkU3RHBtk"
      },
      "execution_count": null,
      "outputs": []
    },
    {
      "cell_type": "code",
      "execution_count": null,
      "metadata": {
        "collapsed": true,
        "id": "4IFS57fKJbza"
      },
      "outputs": [],
      "source": [
        "list1[-2]\n"
      ]
    },
    {
      "cell_type": "code",
      "execution_count": null,
      "metadata": {
        "collapsed": true,
        "id": "s70xjd39Jbza"
      },
      "outputs": [],
      "source": [
        "list1[1][3]\n"
      ]
    },
    {
      "cell_type": "code",
      "execution_count": null,
      "metadata": {
        "collapsed": true,
        "id": "H-9wa56GJbza"
      },
      "outputs": [],
      "source": [
        "list2[3]\n"
      ]
    },
    {
      "cell_type": "code",
      "execution_count": null,
      "metadata": {
        "collapsed": true,
        "id": "bsjd4qfJJbza"
      },
      "outputs": [],
      "source": [
        "list2[3][2]d"
      ]
    },
    {
      "cell_type": "code",
      "execution_count": null,
      "metadata": {
        "collapsed": true,
        "id": "Uzcz2suzJbza"
      },
      "outputs": [],
      "source": [
        "list1[0:4]"
      ]
    },
    {
      "cell_type": "code",
      "execution_count": null,
      "metadata": {
        "collapsed": true,
        "id": "med3bwvdJbza"
      },
      "outputs": [],
      "source": [
        "list2[3:5]"
      ]
    },
    {
      "cell_type": "markdown",
      "metadata": {
        "id": "BV0-aHa2Jbza"
      },
      "source": [
        "### **List Concatenation**"
      ]
    },
    {
      "cell_type": "code",
      "execution_count": null,
      "metadata": {
        "collapsed": true,
        "id": "Qd5xjW-tJbzb"
      },
      "outputs": [],
      "source": [
        "[1,2,3] + [5,6,7]"
      ]
    },
    {
      "cell_type": "code",
      "execution_count": null,
      "metadata": {
        "collapsed": true,
        "id": "sOFgdNBcJbzb"
      },
      "outputs": [],
      "source": [
        "list1 + list2"
      ]
    },
    {
      "cell_type": "markdown",
      "metadata": {
        "id": "ngYx05I2Jbzb"
      },
      "source": [
        "### **Some List Functions and Methods**\n",
        "\n"
      ]
    },
    {
      "cell_type": "code",
      "execution_count": null,
      "metadata": {
        "collapsed": true,
        "id": "kJY9WQymzZv-"
      },
      "outputs": [],
      "source": [
        "list1 = ['physics','astronomy',56.98,'MJ',-9.36]\n",
        "\n",
        "list2 = ['chemistry','biology',77.98,[3,4,65],'EE',-56]"
      ]
    },
    {
      "cell_type": "markdown",
      "source": [
        "**Length of a list**"
      ],
      "metadata": {
        "id": "uKRBrOaOzdC4"
      }
    },
    {
      "cell_type": "code",
      "execution_count": null,
      "metadata": {
        "collapsed": true,
        "id": "BOKHMpykJbzb"
      },
      "outputs": [],
      "source": [
        "len(list1)"
      ]
    },
    {
      "cell_type": "code",
      "execution_count": null,
      "metadata": {
        "collapsed": true,
        "id": "VbNHANviJbzb"
      },
      "outputs": [],
      "source": [
        "len(list2)"
      ]
    },
    {
      "cell_type": "markdown",
      "metadata": {
        "id": "uC1TuokvJbzb"
      },
      "source": [
        "**Maximum/Minimum value**"
      ]
    },
    {
      "cell_type": "code",
      "execution_count": null,
      "metadata": {
        "collapsed": true,
        "id": "n7CE5GjEJbzb"
      },
      "outputs": [],
      "source": [
        "list3 = [3,4,67,2,1]\n",
        "list4 = ['3','4','67','2','1','four','three']"
      ]
    },
    {
      "cell_type": "code",
      "execution_count": null,
      "metadata": {
        "collapsed": true,
        "id": "HbKf4hFyJbzb"
      },
      "outputs": [],
      "source": [
        "max(list3)"
      ]
    },
    {
      "cell_type": "code",
      "execution_count": null,
      "metadata": {
        "collapsed": true,
        "id": "AWZIhNfDJbzc"
      },
      "outputs": [],
      "source": [
        "min(list3)"
      ]
    },
    {
      "cell_type": "markdown",
      "metadata": {
        "id": "yfxr7_gxJbzc"
      },
      "source": [
        "**Append object to list**"
      ]
    },
    {
      "cell_type": "code",
      "source": [
        "list4"
      ],
      "metadata": {
        "id": "gqVukxPOznE0"
      },
      "execution_count": null,
      "outputs": []
    },
    {
      "cell_type": "code",
      "execution_count": null,
      "metadata": {
        "collapsed": true,
        "id": "I4u9PlxuJbzc"
      },
      "outputs": [],
      "source": [
        "list4.append('two')\n",
        "list4.append('three')\n",
        "list4"
      ]
    },
    {
      "cell_type": "markdown",
      "metadata": {
        "id": "4PtLWHVmJbzd"
      },
      "source": [
        "**Insert object**"
      ]
    },
    {
      "cell_type": "code",
      "source": [
        "list4"
      ],
      "metadata": {
        "id": "In9efShizpE9"
      },
      "execution_count": null,
      "outputs": []
    },
    {
      "cell_type": "code",
      "execution_count": null,
      "metadata": {
        "collapsed": true,
        "id": "MDNpjJhLJbzd"
      },
      "outputs": [],
      "source": [
        "list4.insert(3,56)\n",
        "list4"
      ]
    },
    {
      "cell_type": "markdown",
      "metadata": {
        "id": "nIGTMS03Jbzc"
      },
      "source": [
        "**Frequency of object**"
      ]
    },
    {
      "cell_type": "code",
      "execution_count": null,
      "metadata": {
        "collapsed": true,
        "id": "qR06JMjVJbzc"
      },
      "outputs": [],
      "source": [
        "list4.count('three')"
      ]
    },
    {
      "cell_type": "markdown",
      "metadata": {
        "id": "zaf1MPiGJbzc"
      },
      "source": [
        "**Return index**"
      ]
    },
    {
      "cell_type": "code",
      "execution_count": null,
      "metadata": {
        "collapsed": true,
        "id": "feot5GA4Jbzd"
      },
      "outputs": [],
      "source": [
        "list4.index('1')"
      ]
    },
    {
      "cell_type": "markdown",
      "metadata": {
        "id": "libxtAQQJbzd"
      },
      "source": [
        "**Delete object**\n",
        "\n",
        "*By Index position*"
      ]
    },
    {
      "cell_type": "code",
      "source": [
        "list4"
      ],
      "metadata": {
        "id": "vFkJmyJezs2k"
      },
      "execution_count": null,
      "outputs": []
    },
    {
      "cell_type": "code",
      "execution_count": null,
      "metadata": {
        "collapsed": true,
        "id": "W4BWqPgaJbzd"
      },
      "outputs": [],
      "source": [
        "list4.pop(3)"
      ]
    },
    {
      "cell_type": "code",
      "execution_count": null,
      "metadata": {
        "collapsed": true,
        "id": "c_vM_UmwJbzd"
      },
      "outputs": [],
      "source": [
        "list4"
      ]
    },
    {
      "cell_type": "markdown",
      "metadata": {
        "id": "q2t8pQiZJbzd"
      },
      "source": [
        "*By element referencing*"
      ]
    },
    {
      "cell_type": "code",
      "execution_count": null,
      "metadata": {
        "collapsed": true,
        "id": "kahBxey0Jbzd"
      },
      "outputs": [],
      "source": [
        "list4.remove('67')"
      ]
    },
    {
      "cell_type": "code",
      "execution_count": null,
      "metadata": {
        "collapsed": true,
        "id": "NsFUfNEXJbze"
      },
      "outputs": [],
      "source": [
        "list4"
      ]
    },
    {
      "cell_type": "markdown",
      "metadata": {
        "id": "CBkmFtBJJbzf"
      },
      "source": [
        "**Reverse the list**"
      ]
    },
    {
      "cell_type": "code",
      "execution_count": null,
      "metadata": {
        "collapsed": true,
        "id": "iX6vgMxzJbzf"
      },
      "outputs": [],
      "source": [
        "list4.reverse()\n",
        "list4"
      ]
    },
    {
      "cell_type": "markdown",
      "metadata": {
        "id": "0ESz6kfEJbzf"
      },
      "source": [
        "**Sort the list (natural order)**"
      ]
    },
    {
      "cell_type": "code",
      "source": [
        "list3"
      ],
      "metadata": {
        "id": "liT2dBfVzxlR"
      },
      "execution_count": null,
      "outputs": []
    },
    {
      "cell_type": "code",
      "execution_count": null,
      "metadata": {
        "collapsed": true,
        "id": "_6uy70jwJbzg"
      },
      "outputs": [],
      "source": [
        "list3.sort()\n",
        "list3"
      ]
    },
    {
      "cell_type": "markdown",
      "metadata": {
        "id": "iUL8almkJbzg"
      },
      "source": [
        "**<h5><center>Note</center></h5>**\n",
        "\n",
        "**Lists are \"MUTABLE\"**"
      ]
    },
    {
      "cell_type": "code",
      "source": [
        "list4"
      ],
      "metadata": {
        "id": "9QZu6A22z00u"
      },
      "execution_count": null,
      "outputs": []
    },
    {
      "cell_type": "code",
      "execution_count": null,
      "metadata": {
        "id": "hfW2_6z-Jbzg"
      },
      "outputs": [],
      "source": [
        "list4[5] = 5\n",
        "list4"
      ]
    },
    {
      "cell_type": "markdown",
      "source": [
        "#### List Iteration"
      ],
      "metadata": {
        "id": "KyrULyZlGqXb"
      }
    },
    {
      "cell_type": "code",
      "source": [
        "a = [\"ant\", \"bat\", \"cat\", 42]\n",
        "for i in range(len(a)):\n",
        "  print(f\"a[{i}] = {a[i]}\")"
      ],
      "metadata": {
        "id": "bi_eD-xYGwtK"
      },
      "execution_count": null,
      "outputs": []
    },
    {
      "cell_type": "code",
      "source": [
        "for index, element in enumerate(a):\n",
        "  print(f\"a[{index}] = {element}\")"
      ],
      "metadata": {
        "id": "e8l2iGiHHdys"
      },
      "execution_count": null,
      "outputs": []
    },
    {
      "cell_type": "markdown",
      "source": [
        "### Tuples\n"
      ],
      "metadata": {
        "id": "fYwIhok5t2-L"
      }
    },
    {
      "cell_type": "code",
      "source": [
        "tup = (3,4,67,2,1)"
      ],
      "metadata": {
        "id": "ueeANJket0K9"
      },
      "execution_count": null,
      "outputs": []
    },
    {
      "cell_type": "markdown",
      "source": [
        "Dictionary"
      ],
      "metadata": {
        "id": "cQUDHcd9wIDy"
      }
    },
    {
      "cell_type": "code",
      "source": [
        "dict1 = {\"name\":\"Daniel\",\"age\":23,\"degree\":\"MS\"}\n",
        "dict2 = {'name':'Francis','age':60,'job':'Car designer','brand':'Jaguar','worked-for':['Ford','TWR','Aston Martin']}\n"
      ],
      "metadata": {
        "id": "_1CmJOAFwLw7"
      },
      "execution_count": null,
      "outputs": []
    },
    {
      "cell_type": "code",
      "source": [
        "dict1['age']"
      ],
      "metadata": {
        "id": "IvkREEfPwQRp"
      },
      "execution_count": null,
      "outputs": []
    },
    {
      "cell_type": "code",
      "source": [
        "dict2['worked-for']"
      ],
      "metadata": {
        "id": "1phK8QBewSk9"
      },
      "execution_count": null,
      "outputs": []
    },
    {
      "cell_type": "code",
      "source": [
        "dict2['worked-for'][1]"
      ],
      "metadata": {
        "id": "cxOUCHpKwUae"
      },
      "execution_count": null,
      "outputs": []
    },
    {
      "cell_type": "code",
      "source": [
        "dict1['subjects'] = [\"OS\",'DBMS','Artificial Intelligence']"
      ],
      "metadata": {
        "id": "HvuoZzl_3O1A"
      },
      "execution_count": null,
      "outputs": []
    },
    {
      "cell_type": "code",
      "source": [
        "dict1"
      ],
      "metadata": {
        "id": "Rgm0-2Lw3UeZ"
      },
      "execution_count": null,
      "outputs": []
    },
    {
      "cell_type": "code",
      "source": [
        "dict1['degree']='Master of Science'"
      ],
      "metadata": {
        "id": "j1oqDKc13WMm"
      },
      "execution_count": null,
      "outputs": []
    },
    {
      "cell_type": "code",
      "source": [
        "dict1"
      ],
      "metadata": {
        "id": "-aywSU4A3YTE"
      },
      "execution_count": null,
      "outputs": []
    },
    {
      "cell_type": "code",
      "source": [
        "dict1 = {\"name\":\"Daniel\",\"age\":23,\"degree\":\"MS\"}\n",
        "dict2 = {'name':'Francis','age':60,'job':'Car designer','brand':'Jaguar','worked-for':['Ford','TWR','Aston Martin']}\n"
      ],
      "metadata": {
        "id": "ZTiPMATD3dps"
      },
      "execution_count": null,
      "outputs": []
    },
    {
      "cell_type": "code",
      "source": [
        "len(dict1)"
      ],
      "metadata": {
        "id": "NDShjH6i3ea5"
      },
      "execution_count": null,
      "outputs": []
    },
    {
      "cell_type": "code",
      "source": [
        "len(dict2)\n"
      ],
      "metadata": {
        "id": "bZiUXZ0r3hG9"
      },
      "execution_count": null,
      "outputs": []
    },
    {
      "cell_type": "code",
      "source": [
        "dict1.get('name')"
      ],
      "metadata": {
        "id": "BPt9umCp3m2K"
      },
      "execution_count": null,
      "outputs": []
    },
    {
      "cell_type": "code",
      "source": [
        "dict1.items()"
      ],
      "metadata": {
        "id": "_1QdBEed3ogj"
      },
      "execution_count": null,
      "outputs": []
    },
    {
      "cell_type": "code",
      "source": [
        "dict1.keys()"
      ],
      "metadata": {
        "id": "tTIo6K-p3q3l"
      },
      "execution_count": null,
      "outputs": []
    },
    {
      "cell_type": "code",
      "source": [
        "dict1.values()"
      ],
      "metadata": {
        "id": "RY2Rx_2n3sY4"
      },
      "execution_count": null,
      "outputs": []
    },
    {
      "cell_type": "markdown",
      "source": [
        "### Set"
      ],
      "metadata": {
        "id": "Npt2YWa24U_o"
      }
    },
    {
      "cell_type": "code",
      "source": [
        "tech = {'google','amazon','apple','tesla','microsoft','apple', 'google'}"
      ],
      "metadata": {
        "id": "3vU6RnA04Oks"
      },
      "execution_count": null,
      "outputs": []
    },
    {
      "cell_type": "code",
      "source": [
        "tech"
      ],
      "metadata": {
        "id": "FmuypPpb4SBP"
      },
      "execution_count": null,
      "outputs": []
    },
    {
      "cell_type": "code",
      "source": [
        "a = set([10,20,30,40,50])\n",
        "b = set([10,60,70])"
      ],
      "metadata": {
        "id": "Y0tbe9Vm5wcG"
      },
      "execution_count": null,
      "outputs": []
    },
    {
      "cell_type": "code",
      "source": [
        "print(a)\n",
        "print(b)"
      ],
      "metadata": {
        "id": "5EWnvpvt56ad"
      },
      "execution_count": null,
      "outputs": []
    },
    {
      "cell_type": "code",
      "source": [
        "print(a.intersection(b))\n",
        "print(a.difference(b))\n",
        "print(a.union(b))\n",
        "print(b.intersection(a))\n",
        "print(b.difference(a))\n",
        "print(a.union(b))\n",
        "print(a.symmetric_difference(b))"
      ],
      "metadata": {
        "id": "tzfmmu-n58_D"
      },
      "execution_count": null,
      "outputs": []
    },
    {
      "cell_type": "markdown",
      "source": [
        "### Execise 4\n",
        "\n",
        "*   Create a variable with the string value - **'The quick brown fox jumps over a lazy dog'** <br>\n",
        "    * Print the length of this string variable\n",
        "    * **'Split'** the string using **'  '** (space character) and assign this operation to a new variable. Print the length of the new variable\n",
        "    * Find the middle element of the sequence in new variable and return its value\n",
        "    * **'append'** a new string value, 'number 5' (5 is an integer. Concatenate the values, 'number' and 5, while appending)\n",
        "    * **'Join'** the split strings (in the new variable) with a space character and print this operation (**Hint: ' '.join(???)**)"
      ],
      "metadata": {
        "id": "sD-xQsv38-m9"
      }
    },
    {
      "cell_type": "code",
      "source": [
        "# Enter your code here"
      ],
      "metadata": {
        "id": "0kUcrOnq-U3Q"
      },
      "execution_count": null,
      "outputs": []
    },
    {
      "cell_type": "code",
      "source": [
        "text = 'The quick brown fox jumps over a lazy dog'\n",
        "\n",
        "#Length of the 'text' variable\n",
        "\n",
        "#Splitting the string\n",
        "\n",
        "#Length of the 'new' variable\n",
        "\n",
        "#Middle element of the 'new' variable\n",
        "\n",
        "#Adding a string to the 'new' variable\n",
        "\n",
        "#Joining the the individual strings into one string\n"
      ],
      "metadata": {
        "id": "tAlhF4b98fV5"
      },
      "execution_count": null,
      "outputs": []
    }
  ],
  "metadata": {
    "kernelspec": {
      "display_name": "Python 3",
      "language": "python",
      "name": "python3"
    },
    "language_info": {
      "codemirror_mode": {
        "name": "ipython",
        "version": 3
      },
      "file_extension": ".py",
      "mimetype": "text/x-python",
      "name": "python",
      "nbconvert_exporter": "python",
      "pygments_lexer": "ipython3",
      "version": "3.7.3"
    },
    "colab": {
      "provenance": [],
      "collapsed_sections": [
        "VFFrbkSbJbzU",
        "Da35EA9lJbzX",
        "C41wjCmQZrlL",
        "XTi5ptLhdOdQ",
        "iYdJZqD3sGpx",
        "BV0-aHa2Jbza"
      ]
    }
  },
  "nbformat": 4,
  "nbformat_minor": 0
}